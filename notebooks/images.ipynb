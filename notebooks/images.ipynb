{
 "cells": [
  {
   "cell_type": "code",
   "execution_count": 1,
   "metadata": {
    "scrolled": true
   },
   "outputs": [
    {
     "name": "stdout",
     "output_type": "stream",
     "text": [
      "base                (version: v0.13.0)\n",
      "base.base_internalhash_types (version: v0.13.0)\n",
      "base.caml           (version: v0.13.0)\n",
      "base.md5            (version: v0.13.0)\n",
      "base.shadow_stdlib  (version: v0.13.0)\n",
      "base64              (version: 3.3.0)\n",
      "base64.rfc2045      (version: 3.3.0)\n",
      "bigarray            (version: [distributed with Ocaml])\n",
      "bimage              (version: n/a)\n",
      "bimage-unix         (version: n/a)\n",
      "biniou              (version: 1.2.1)\n",
      "bytes               (version: [distributed with OCaml 4.02 or above])\n",
      "camlimages          (version: 4.2.6)\n",
      "camlimages.all      (version: 4.2.6)\n",
      "camlimages.all_formats (version: 4.2.6)\n",
      "camlimages.core     (version: 5.0.1)\n",
      "camlimages.exif     (version: 5.0.1)\n",
      "camlimages.freetype (version: 5.0.1)\n",
      "camlimages.gif      (version: 5.0.1)\n",
      "camlimages.jpeg     (version: 5.0.1)\n",
      "camlimages.png      (version: 5.0.1)\n",
      "camlimages.tiff     (version: 5.0.1)\n",
      "camlimages.xpm      (version: 5.0.1)\n",
      "compiler-libs       (version: [distributed with Ocaml])\n",
      "compiler-libs.bytecomp (version: [distributed with Ocaml])\n",
      "compiler-libs.common (version: [distributed with Ocaml])\n",
      "compiler-libs.optcomp (version: [distributed with Ocaml])\n",
      "compiler-libs.toplevel (version: [distributed with Ocaml])\n",
      "configurator        (version: v0.11.0)\n",
      "cppo                (version: n/a)\n",
      "cryptokit           (version: 1.13)\n",
      "ctypes              (version: 0.17.1)\n",
      "ctypes.foreign      (version: 0.17.1)\n",
      "ctypes.foreign.base (version: 0.17.1)\n",
      "ctypes.foreign.threaded (version: 0.17.1)\n",
      "ctypes.foreign.unthreaded (version: 0.17.1)\n",
      "ctypes.stubs        (version: 0.17.1)\n",
      "ctypes.top          (version: 0.17.1)\n",
      "dune                (version: n/a)\n",
      "dune-configurator   (version: 2.3.1)\n",
      "dune-private-libs   (version: n/a)\n",
      "dune-private-libs.dune-lang (version: 2.3.1)\n",
      "dune-private-libs.dune_re (version: 2.3.1)\n",
      "dune-private-libs.ocaml-config (version: 2.3.1)\n",
      "dune-private-libs.stdune (version: 2.3.1)\n",
      "dune.configurator   (version: 2.3.1)\n",
      "dynlink             (version: [distributed with Ocaml])\n",
      "easy-format         (version: 1.3.2)\n",
      "findlib             (version: 1.8.1)\n",
      "findlib.dynload     (version: 1.8.1)\n",
      "findlib.internal    (version: 1.8.1)\n",
      "findlib.top         (version: 1.8.1)\n",
      "integers            (version: n/a)\n",
      "integers.top        (version: n/a)\n",
      "jbuilder            (version: n/a)\n",
      "jupyter             (version: 2.6.1)\n",
      "jupyter.comm        (version: 2.6.1)\n",
      "jupyter.notebook    (version: 2.6.1)\n",
      "logs                (version: 0.7.0)\n",
      "logs.lwt            (version: 0.7.0)\n",
      "logs.threaded       (version: 0.7.0)\n",
      "logs.top            (version: 0.7.0)\n",
      "lwt                 (version: 5.1.2)\n",
      "lwt.unix            (version: 5.1.2)\n",
      "lwt_ppx             (version: 2.0.0)\n",
      "merlin              (version: n/a)\n",
      "mmap                (version: 1.1.0)\n",
      "ocaml-compiler-libs (version: n/a)\n",
      "ocaml-compiler-libs.bytecomp (version: n/a)\n",
      "ocaml-compiler-libs.common (version: n/a)\n",
      "ocaml-compiler-libs.optcomp (version: n/a)\n",
      "ocaml-compiler-libs.shadow (version: n/a)\n",
      "ocaml-compiler-libs.toplevel (version: n/a)\n",
      "ocaml-migrate-parsetree (version: 1.6.0)\n",
      "ocaml-migrate-parsetree.driver-main (version: 1.6.0)\n",
      "ocamlbuild          (version: 0.14.0)\n",
      "ocamldoc            (version: [distributed with Ocaml])\n",
      "ocplib-endian       (version: 1.0)\n",
      "ocplib-endian.bigstring (version: 1.0)\n",
      "ppx_derivers        (version: n/a)\n",
      "ppx_deriving        (version: n/a)\n",
      "ppx_deriving.api    (version: n/a)\n",
      "ppx_deriving.create (version: n/a)\n",
      "ppx_deriving.enum   (version: n/a)\n",
      "ppx_deriving.eq     (version: n/a)\n",
      "ppx_deriving.fold   (version: n/a)\n",
      "ppx_deriving.iter   (version: n/a)\n",
      "ppx_deriving.make   (version: n/a)\n",
      "ppx_deriving.map    (version: n/a)\n",
      "ppx_deriving.ord    (version: n/a)\n",
      "ppx_deriving.runtime (version: n/a)\n",
      "ppx_deriving.show   (version: n/a)\n",
      "ppx_deriving.std    (version: n/a)\n",
      "ppx_deriving_yojson (version: n/a)\n",
      "ppx_deriving_yojson.runtime (version: n/a)\n",
      "ppx_tools           (version: 6.0)\n",
      "ppx_tools.ast_lifter (version: 6.0)\n",
      "ppx_tools.metaquot  (version: 6.0)\n",
      "ppx_tools_versioned (version: n/a)\n",
      "ppx_tools_versioned.metaquot_402 (version: n/a)\n",
      "ppx_tools_versioned.metaquot_403 (version: n/a)\n",
      "ppx_tools_versioned.metaquot_404 (version: n/a)\n",
      "ppx_tools_versioned.metaquot_405 (version: n/a)\n",
      "ppx_tools_versioned.metaquot_406 (version: n/a)\n",
      "ppx_tools_versioned.metaquot_407 (version: n/a)\n",
      "ppx_tools_versioned.metaquot_408 (version: n/a)\n",
      "ppx_tools_versioned.metaquot_409 (version: n/a)\n",
      "ppxfind             (version: n/a)\n",
      "raw_spacetime       (version: [distributed with Ocaml])\n",
      "result              (version: 1.5)\n",
      "seq                 (version: [distributed with OCaml 4.07 or above])\n",
      "sexplib0            (version: v0.13.0)\n",
      "stdint              (version: 0.6.0)\n",
      "stdio               (version: v0.13.0)\n",
      "stdlib              (version: [distributed with Ocaml])\n",
      "str                 (version: [distributed with Ocaml])\n",
      "threads             (version: [distributed with Ocaml])\n",
      "threads.none        (version: [internal])\n",
      "threads.posix       (version: [internal])\n",
      "topkg               (version: 1.0.1)\n",
      "tqdm                (version: dev)\n",
      "unix                (version: [distributed with Ocaml])\n",
      "uuidm               (version: v0.9.7)\n",
      "yojson              (version: 1.7.0)\n",
      "yojson.biniou       (version: n/a)\n",
      "zarith              (version: 1.9.1)\n",
      "zarith.top          (version: 1.9.1)\n",
      "zmq                 (version: 5.1.3)\n",
      "zmq-lwt             (version: 5.1.3)\n",
      "zmq.deferred        (version: 5.1.3)\n"
     ]
    }
   ],
   "source": [
    "#list ;;"
   ]
  },
  {
   "cell_type": "code",
   "execution_count": 3,
   "metadata": {
    "scrolled": true
   },
   "outputs": [
    {
     "name": "stdout",
     "output_type": "stream",
     "text": [
      "val binaire_of_int : int -> int list = <fun>\n",
      "module Img :\n",
      "  sig\n",
      "    type t = (int * int * int) array array\n",
      "    val load : string -> (int * int * int) array array\n",
      "    val to_array : 'a -> 'a\n",
      "    val decoupe :\n",
      "      (int * int * int) array array ->\n",
      "      int -> int -> int -> int -> (int * int * int) array array\n",
      "    val of_list : int list -> int -> int -> (int * int * int) array array\n",
      "    val to_list : (int * int * int) array array -> int list\n",
      "  end\n"
     ]
    }
   ],
   "source": [
    "#require \"camlimages.core\"\n",
    "#use \"../src/img.ml\""
   ]
  },
  {
   "cell_type": "code",
   "execution_count": 13,
   "metadata": {
    "scrolled": true
   },
   "outputs": [
    {
     "data": {
      "text/plain": [
       "val img_path : string = \"../images/cat.bmp\"\n"
      ]
     },
     "execution_count": 13,
     "metadata": {},
     "output_type": "execute_result"
    },
    {
     "data": {
      "text/plain": [
       "val img : (int * int * int) array array =\n",
       "  [|[|(255, 255, 255); (255, 255, 255); (255, 255, 255); (255, 255, 255);\n",
       "      (255, 255, 255); (255, 255, 255); (255, 255, 255); (255, 255, 255);\n",
       "      (255, 255, 255); (255, 255, 255); (255, 255, 255); (255, 255, 255);\n",
       "      (255, 255, 255); (255, 255, 255); (255, 255, 255); (255, 255, 255);\n",
       "      (255, 255, 255); (255, 255, 255); (255, 255, 255); (255, 255, 255);\n",
       "      (255, 255, 255); (255, 255, 255); (255, 255, 255); (255, 255, 255);\n",
       "      (255, 255, 255); (255, 255, 255); (255, 255, 255); (255, 255, 255);\n",
       "      (255, 255, 255); (255, 255, 255); (255, 255, 255); (255, 255, 255);\n",
       "      (255, 255, 255); (255, 255, 255); (255, 255, 255); (255, 255, 255);\n",
       "      (255, 255, 255); (255, 255, 255); (255, 255, 255); (255, 255, 255);\n",
       "      (255, 255, 255); (255, 255, 255); (255, 255, 255); (255, 255, 255);\n",
       "      (255, 255, 255); (255, 255, 255); (255, 255, 255); (255, 255, 255);\n",
       "      (255, 255, 255); (255, 255, 255); (255, 255, 255); (255, 255, 255);\n",
       "      (255, 255, 255); (255, 255, 255); (255, 255, 255); (255, 255, 255);\n",
       "      (255, 255, 255); (255, 255, 255); (255, 255, 255); (255, 255, 255);\n",
       "      (255, 255, 255); (255, 255, 255); (255, 255, 255); (255, 255, 255);\n",
       "      (255, 255, 255); (255, 255, 255); (255, 255, 255); (255, 255, 255);\n",
       "      (255, 255, 255); (255, 255, 255); (255, 255, 255); (255, 255, 255);\n",
       "      (255, 255, 255); (255, 255, 255); (255, ...); ...|];\n",
       "    ...|]\n"
      ]
     },
     "execution_count": 13,
     "metadata": {},
     "output_type": "execute_result"
    },
    {
     "data": {
      "text/plain": [
       "- : (int * int * int) array array =\n",
       "[|[|(255, 255, 255); (255, 255, 255); (255, 255, 255); (255, 255, 255);\n",
       "    (255, 255, 255); (255, 255, 255); (255, 255, 255); (255, 255, 255);\n",
       "    (255, 255, 255); (255, 255, 255); (255, 255, 255); (255, 255, 255);\n",
       "    (255, 255, 255); (255, 255, 255); (255, 255, 255); (255, 255, 255);\n",
       "    (255, 255, 255); (255, 255, 255); (255, 255, 255); (255, 255, 255);\n",
       "    (255, 255, 255); (255, 255, 255); (255, 255, 255); (255, 255, 255);\n",
       "    (255, 255, 255); (255, 255, 255); (255, 255, 255); (255, 255, 255);\n",
       "    (255, 255, 255); (255, 255, 255); (255, 255, 255); (255, 255, 255);\n",
       "    (255, 255, 255); (255, 255, 255); (255, 255, 255); (255, 255, 255);\n",
       "    (255, 255, 255); (255, 255, 255); (255, 255, 255); (255, 255, 255);\n",
       "    (255, 255, 255); (255, 255, 255); (255, 255, 255); (255, 255, 255);\n",
       "    (255, 255, 255); (255, 255, 255); (255, 255, 255); (255, 255, 255);\n",
       "    (255, 255, 255); (255, 255, 255); (255, 255, 255); (255, 255, 255);\n",
       "    (255, 255, 255); (255, 255, 255); (255, 255, 255); (255, 255, 255);\n",
       "    (255, 255, 255); (255, 255, 255); (255, 255, 255); (255, 255, 255);\n",
       "    (255, 255, 255); (255, 255, 255); (255, 255, 255); (255, 255, 255);\n",
       "    (255, 255, 255); (255, 255, 255); (255, 255, 255); (255, 255, 255);\n",
       "    (255, 255, 255); (255, 255, 255); (255, 255, 255); (255, 255, 255);\n",
       "    (255, 255, 255); (255, 255, 255); (255, ...); ...|];\n",
       "  ...|]\n"
      ]
     },
     "execution_count": 13,
     "metadata": {},
     "output_type": "execute_result"
    }
   ],
   "source": [
    "let img_path = \"../images/cat.bmp\" ;;\n",
    "let img = Img.load img_path ;;\n",
    "Img.to_array img"
   ]
  },
  {
   "cell_type": "code",
   "execution_count": 6,
   "metadata": {},
   "outputs": [
    {
     "data": {
      "text/plain": [
       "- : OImages.oimage -> OImages.rgb24_class = <fun>\n"
      ]
     },
     "execution_count": 6,
     "metadata": {},
     "output_type": "execute_result"
    }
   ],
   "source": [
    "OImages.rgb24"
   ]
  }
 ],
 "metadata": {
  "kernelspec": {
   "display_name": "OCaml 4.09.0",
   "language": "OCaml",
   "name": "ocaml-jupyter"
  },
  "language_info": {
   "codemirror_mode": "text/x-ocaml",
   "file_extension": ".ml",
   "mimetype": "text/x-ocaml",
   "name": "OCaml",
   "nbconverter_exporter": null,
   "pygments_lexer": "OCaml",
   "version": "4.09.0"
  }
 },
 "nbformat": 4,
 "nbformat_minor": 2
}
