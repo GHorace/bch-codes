{
 "cells": [
  {
   "cell_type": "markdown",
   "metadata": {},
   "source": [
    "This notebook makes use of https://github.com/akabe/ocaml-jupyter with ocaml 4.02.3\n",
    "\n",
    "# Prime fields\n",
    "Let's use our module to build Frobenius fields, aka prime fields $ \\mathbf{F}_p $.\n",
    "\n",
    "First, we need to load the functor that makes a field based on a characteristic `carac`, which must be a prime."
   ]
  },
  {
   "cell_type": "code",
   "execution_count": 24,
   "metadata": {
    "scrolled": false
   },
   "outputs": [
    {
     "name": "stdout",
     "output_type": "stream",
     "text": [
      "module type FrobT =\n",
      "  sig\n",
      "    type t\n",
      "    val zero : t\n",
      "    val un : t\n",
      "    val alpha : t\n",
      "    val carac : int\n",
      "    val dim : int\n",
      "    val cardinal : int\n",
      "    val to_int : t -> int\n",
      "    val of_int : int -> t\n",
      "    val to_list : t -> int list\n",
      "    val elt_of_list_int : int list -> t\n",
      "    val print : t -> unit\n",
      "    val print_table : unit -> unit\n",
      "    val add : t -> t -> t\n",
      "    val sub : t -> t -> t\n",
      "    val opp : t -> t\n",
      "    val mult : t -> t -> t\n",
      "    val inv : t -> t\n",
      "    val div : t -> t -> t\n",
      "    val pow : t -> int -> t\n",
      "    val random : unit -> t\n",
      "  end\n",
      "module Frobenius : functor (Taille : sig val carac : int end) -> FrobT\n"
     ]
    }
   ],
   "source": [
    "#use \"./src/frobenius.ml\""
   ]
  },
  {
   "cell_type": "markdown",
   "metadata": {},
   "source": [
    "Now, let's build $ \\mathbf{F}_3  = \\mathbf{Z}/(3\\mathbf{Z})$ :"
   ]
  },
  {
   "cell_type": "code",
   "execution_count": 25,
   "metadata": {
    "scrolled": true
   },
   "outputs": [
    {
     "data": {
      "text/plain": [
       "module T3 : sig val carac : int end\n"
      ]
     },
     "execution_count": 25,
     "metadata": {},
     "output_type": "execute_result"
    },
    {
     "data": {
      "text/plain": [
       "module F3 :\n",
       "  sig\n",
       "    type t = Frobenius(T3).t\n",
       "    val zero : t\n",
       "    val un : t\n",
       "    val alpha : t\n",
       "    val carac : int\n",
       "    val dim : int\n",
       "    val cardinal : int\n",
       "    val to_int : t -> int\n",
       "    val of_int : int -> t\n",
       "    val to_list : t -> int list\n",
       "    val elt_of_list_int : int list -> t\n",
       "    val print : t -> unit\n",
       "    val print_table : unit -> unit\n",
       "    val add : t -> t -> t\n",
       "    val sub : t -> t -> t\n",
       "    val opp : t -> t\n",
       "    val mult : t -> t -> t\n",
       "    val inv : t -> t\n",
       "    val div : t -> t -> t\n",
       "    val pow : t -> int -> t\n",
       "    val random : unit -> t\n",
       "  end\n"
      ]
     },
     "execution_count": 25,
     "metadata": {},
     "output_type": "execute_result"
    }
   ],
   "source": [
    "module T3 = struct\n",
    "    let carac = 3\n",
    "end\n",
    "\n",
    "module F3 = Frobenius(T3)"
   ]
  },
  {
   "cell_type": "code",
   "execution_count": 26,
   "metadata": {},
   "outputs": [
    {
     "data": {
      "text/plain": [
       "- : unit = ()\n"
      ]
     },
     "execution_count": 26,
     "metadata": {},
     "output_type": "execute_result"
    }
   ],
   "source": [
    "F3.(print alpha)"
   ]
  },
  {
   "cell_type": "markdown",
   "metadata": {},
   "source": [
    "Unfortunately, we cannot print in here directly. We'll just need to flush standard output, which can be done easily  done `print_newline()` or `print_endline()` cf https://caml.inria.fr/pub/docs/manual-ocaml/libref/Pervasives.html :"
   ]
  },
  {
   "cell_type": "code",
   "execution_count": 27,
   "metadata": {},
   "outputs": [
    {
     "data": {
      "text/plain": [
       "- : unit = ()\n"
      ]
     },
     "execution_count": 27,
     "metadata": {},
     "output_type": "execute_result"
    },
    {
     "name": "stdout",
     "output_type": "stream",
     "text": [
      "2%3\n"
     ]
    }
   ],
   "source": [
    "print_newline ()"
   ]
  },
  {
   "cell_type": "markdown",
   "metadata": {},
   "source": [
    "We can now see that the 2 is a (the) primitive element in this field. \n",
    "If we need more flexible representation, we can just use other primitives :"
   ]
  },
  {
   "cell_type": "code",
   "execution_count": 28,
   "metadata": {},
   "outputs": [
    {
     "data": {
      "text/plain": [
       "- : unit = ()\n"
      ]
     },
     "execution_count": 28,
     "metadata": {},
     "output_type": "execute_result"
    },
    {
     "name": "stdout",
     "output_type": "stream",
     "text": [
      "2\n"
     ]
    }
   ],
   "source": [
    "F3.(to_int alpha) |> print_int ; print_newline ()"
   ]
  },
  {
   "cell_type": "markdown",
   "metadata": {},
   "source": [
    "Let's extend this field to make $ \\mathbf{F}_9 $. To do this, we're actually going to build $ \\mathbf{F}_3[X]/(f(x))$ where $f(x)$ is an irreducible polynomial of degree 2.\n",
    "First, we need to make polynoms out of these. Then, the module Cantorzass factorizes a cyclotomic polynomial and exten"
   ]
  },
  {
   "cell_type": "code",
   "execution_count": 29,
   "metadata": {
    "scrolled": true
   },
   "outputs": [
    {
     "name": "stdout",
     "output_type": "stream",
     "text": [
      "module Polynome :\n",
      "  sig\n",
      "    module type CorpsType =\n",
      "      sig\n",
      "        type t\n",
      "        val carac : int\n",
      "        val cardinal : int\n",
      "        val dim : int\n",
      "        val zero : t\n",
      "        val un : t\n",
      "        val random : unit -> t\n",
      "        val print : t -> unit\n",
      "        val opp : t -> t\n",
      "        val inv : t -> t\n",
      "        val add : t -> t -> t\n",
      "        val mult : t -> t -> t\n",
      "        val sub : t -> t -> t\n",
      "        val div : t -> t -> t\n",
      "        val pow : t -> int -> t\n",
      "      end\n",
      "    module type PolyFunctorType =\n",
      "      functor (Corps : CorpsType) ->\n",
      "        sig\n",
      "          type elt = Corps.t\n",
      "          type t\n",
      "          val carac : int\n",
      "          val cardinal : int\n",
      "          val poly_of_list : elt list -> t\n",
      "          val list_of_poly : t -> elt list\n",
      "          val nul : t\n",
      "          val un : t\n",
      "          val coef_dom : t -> elt\n",
      "          val map : (elt -> elt) -> t -> t\n",
      "          val evaluer : t -> elt -> elt\n",
      "          val normalise : t -> t\n",
      "          val unitaire : t -> t\n",
      "          val decale : t -> int -> t\n",
      "          val monome : elt -> int -> t\n",
      "          val reciproque : t -> t\n",
      "          val coef_constant : t -> elt\n",
      "          val degre : t -> int\n",
      "          val derive : t -> t\n",
      "          val opp : t -> t\n",
      "          val add : t -> t -> t\n",
      "          val sub : t -> t -> t\n",
      "          val mult : t -> t -> t\n",
      "          val pow : t -> int -> t\n",
      "          val powmod : t -> int -> t -> t\n",
      "          val division : t -> t -> t * t\n",
      "          val quotient : t -> t -> t\n",
      "          val modulo : t -> t -> t\n",
      "          val mult_par_scal : t -> elt -> t\n",
      "          val translate : int -> t -> t\n",
      "          val pgcd : t -> t -> t\n",
      "          val euclide : t -> t -> t * t * t\n",
      "          val random : int -> t\n",
      "          val print : t -> unit\n",
      "        end\n",
      "    module Polynome : PolyFunctorType\n",
      "  end\n",
      "module Cantorzass :\n",
      "  sig\n",
      "    module type PolyCZType =\n",
      "      sig\n",
      "        type t\n",
      "        val cardinal : int\n",
      "        val carac : int\n",
      "        val nul : t\n",
      "        val un : t\n",
      "        val normalise : t -> t\n",
      "        val print : t -> unit\n",
      "        val degre : t -> int\n",
      "        val add : t -> t -> t\n",
      "        val sub : t -> t -> t\n",
      "        val opp : t -> t\n",
      "        val quotient : t -> t -> t\n",
      "        val modulo : t -> t -> t\n",
      "        val mult : t -> t -> t\n",
      "        val powmod : t -> int -> t -> t\n",
      "        val pgcd : t -> t -> t\n",
      "        val derive : t -> t\n",
      "        val random : int -> t\n",
      "      end\n",
      "    module Cantorzass :\n",
      "      functor (Poly : PolyCZType) ->\n",
      "        sig\n",
      "          type poly = Poly.t\n",
      "          val cantor_zassenhaus : poly -> int -> poly\n",
      "          val factorisation : poly -> int -> poly list\n",
      "        end\n",
      "  end\n",
      "module Cyclo :\n",
      "  sig\n",
      "    module type Polynome =\n",
      "      sig\n",
      "        type t\n",
      "        val opp : t -> t\n",
      "        val translate : int -> t -> t\n",
      "        val decale : t -> int -> t\n",
      "        val add : t -> t -> t\n",
      "        val un : t\n",
      "        val quotient : t -> t -> t\n",
      "      end\n",
      "    module Cyclo :\n",
      "      functor (Poly : Polynome) ->\n",
      "        sig val decomposer : int -> int list val cyclo : int -> Poly.t end\n",
      "  end\n",
      "val pow_int : int -> int -> int = <fun>\n",
      "module type TT = sig val dim : int end\n",
      "module type CFT =\n",
      "  sig\n",
      "    type t\n",
      "    val carac : int\n",
      "    val dim : int\n",
      "    val cardinal : int\n",
      "    val zero : t\n",
      "    val of_int : int -> t\n",
      "    val to_int : t -> int\n",
      "    val un : t\n",
      "    val alpha : t\n",
      "    val add : t -> t -> t\n",
      "    val sub : t -> t -> t\n",
      "    val opp : t -> t\n",
      "    val mult : t -> t -> t\n",
      "    val inv : t -> t\n",
      "    val div : t -> t -> t\n",
      "    val pow : t -> int -> t\n",
      "    val print : t -> unit\n",
      "    val print_table : unit -> unit\n",
      "    val random : unit -> t\n",
      "  end\n",
      "module type ExtFuncT =\n",
      "  functor (CorpsBase : CFT) (Taille : TT) ->\n",
      "    sig\n",
      "      type t\n",
      "      exception ExtraireImpossible\n",
      "      val carac : int\n",
      "      val dim : int\n",
      "      val cardinal : int\n",
      "      val zero : t\n",
      "      val of_int : int -> t\n",
      "      val to_int : t -> int\n",
      "      val to_list : t -> int list\n",
      "      val elt_of_list_int : int list -> t\n",
      "      val extraire : t -> CorpsBase.t\n",
      "      val incorporer : CorpsBase.t -> t\n",
      "      val un : t\n",
      "      val alpha : t\n",
      "      val add : t -> t -> t\n",
      "      val sub : t -> t -> t\n",
      "      val opp : t -> t\n",
      "      val mult : t -> t -> t\n",
      "      val inv : t -> t\n",
      "      val div : t -> t -> t\n",
      "      val pow : t -> int -> t\n",
      "      val print : t -> unit\n",
      "      val print_table : unit -> unit\n",
      "      val random : unit -> t\n",
      "    end\n",
      "module ExtensionOpt : ExtFuncT\n",
      "module ExtensionNonOpt : ExtFuncT\n"
     ]
    }
   ],
   "source": [
    "#mod_use \"./src/polynome.ml\"\n",
    "#mod_use \"./src/cantorzass.ml\"\n",
    "#mod_use \"./src/cyclo.ml\"\n",
    "#use \"./src/extensions.ml\""
   ]
  },
  {
   "cell_type": "code",
   "execution_count": 30,
   "metadata": {
    "scrolled": true
   },
   "outputs": [
    {
     "data": {
      "text/plain": [
       "module T6 : sig val carac : int val dim : int end\n"
      ]
     },
     "execution_count": 30,
     "metadata": {},
     "output_type": "execute_result"
    },
    {
     "data": {
      "text/plain": [
       "module F9 :\n",
       "  sig\n",
       "    type t = ExtensionOpt(F3)(T6).t\n",
       "    exception ExtraireImpossible\n",
       "    val carac : int\n",
       "    val dim : int\n",
       "    val cardinal : int\n",
       "    val zero : t\n",
       "    val of_int : int -> t\n",
       "    val to_int : t -> int\n",
       "    val to_list : t -> int list\n",
       "    val elt_of_list_int : int list -> t\n",
       "    val extraire : t -> F3.t\n",
       "    val incorporer : F3.t -> t\n",
       "    val un : t\n",
       "    val alpha : t\n",
       "    val add : t -> t -> t\n",
       "    val sub : t -> t -> t\n",
       "    val opp : t -> t\n",
       "    val mult : t -> t -> t\n",
       "    val inv : t -> t\n",
       "    val div : t -> t -> t\n",
       "    val pow : t -> int -> t\n",
       "    val print : t -> unit\n",
       "    val print_table : unit -> unit\n",
       "    val random : unit -> t\n",
       "  end\n"
      ]
     },
     "execution_count": 30,
     "metadata": {},
     "output_type": "execute_result"
    }
   ],
   "source": [
    "module T6 = struct\n",
    "    let carac = 3\n",
    "    let dim = 2\n",
    "end\n",
    "\n",
    "module F9 = ExtensionOpt(F3)(T6)"
   ]
  },
  {
   "cell_type": "code",
   "execution_count": 31,
   "metadata": {
    "scrolled": true
   },
   "outputs": [
    {
     "name": "stdout",
     "output_type": "stream",
     "text": [
      "a^1\n",
      "a^2\n",
      "a^3\n",
      "a^4\n",
      "a^5\n",
      "a^6\n",
      "a^7\n",
      "a^0\n",
      "\n",
      "1%3X^0\n",
      "\n",
      "0%3X^0 + 1%3X^1\n",
      "\n",
      "1%3X^0 + 1%3X^1\n",
      "\n",
      "1%3X^0 + 2%3X^1\n",
      "\n",
      "2%3X^0\n",
      "\n",
      "0%3X^0 + 2%3X^1\n",
      "\n",
      "2%3X^0 + 2%3X^1\n",
      "\n",
      "2%3X^0 + 1%3X^1\n",
      "\n"
     ]
    },
    {
     "data": {
      "text/plain": [
       "- : unit = ()\n"
      ]
     },
     "execution_count": 31,
     "metadata": {},
     "output_type": "execute_result"
    }
   ],
   "source": [
    "let _ = \n",
    "    let open F9 in\n",
    "    let rec enum x = match x with\n",
    "        | a when a=un -> print un ; print_newline() ;\n",
    "        | a -> print a ; print_newline() ; enum (mult a alpha)\n",
    "    in enum alpha\n",
    ";\n",
    "print_newline() ; F9.print_table ()"
   ]
  }
 ],
 "metadata": {
  "kernelspec": {
   "display_name": "OCaml 4.09.0",
   "language": "OCaml",
   "name": "ocaml-jupyter"
  },
  "language_info": {
   "codemirror_mode": "text/x-ocaml",
   "file_extension": ".ml",
   "mimetype": "text/x-ocaml",
   "name": "OCaml",
   "nbconverter_exporter": null,
   "pygments_lexer": "OCaml",
   "version": "4.09.0"
  }
 },
 "nbformat": 4,
 "nbformat_minor": 2
}
