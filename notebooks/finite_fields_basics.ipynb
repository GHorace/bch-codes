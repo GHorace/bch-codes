{
 "cells": [
  {
   "cell_type": "markdown",
   "metadata": {},
   "source": [
    "This notebook makes use of https://github.com/akabe/ocaml-jupyter with ocaml 4.02.3\n",
    "\n",
    "# Prime fields\n",
    "Let's use our module to build Frobenius fields, aka prime fields $ \\mathbf{F}_p $.\n",
    "\n",
    "First, we need to load the functor that makes a field based on a characteristic `carac`, which must be a prime."
   ]
  },
  {
   "cell_type": "code",
   "execution_count": 264,
   "metadata": {
    "scrolled": true
   },
   "outputs": [
    {
     "name": "stdout",
     "output_type": "stream",
     "text": [
      "module Frobenius_base :\n",
      "  sig\n",
      "    module type BaseFieldT =\n",
      "      sig\n",
      "        type t\n",
      "        val zero : t\n",
      "        val one : t\n",
      "        val carac : int\n",
      "        val dim : int\n",
      "        val cardinal : int\n",
      "        val to_int : t -> int\n",
      "        val of_int : int -> t\n",
      "        val to_list : t -> int list\n",
      "        val elt_of_list_int : int list -> t\n",
      "        val to_string : t -> string\n",
      "        val print : t -> unit\n",
      "        val print_table : unit -> unit\n",
      "        val add : t -> t -> t\n",
      "        val sub : t -> t -> t\n",
      "        val opp : t -> t\n",
      "        val mul : t -> t -> t\n",
      "        val inv : t -> t\n",
      "        val div : t -> t -> t\n",
      "        val pow : t -> int -> t\n",
      "        val random : unit -> t\n",
      "      end\n",
      "    module type TailleT = sig val carac : int end\n",
      "    module FrobeniusBase : functor (Taille : TailleT) -> BaseFieldT\n",
      "  end\n",
      "module Polynome :\n",
      "  sig\n",
      "    module type CorpsType = Frobenius_base.BaseFieldT\n",
      "    module type PolyType =\n",
      "      sig\n",
      "        type t\n",
      "        type elt\n",
      "        val carac : int\n",
      "        val cardinal : int\n",
      "        val of_list : elt list -> t\n",
      "        val to_list : t -> elt list\n",
      "        val zero : t\n",
      "        val one : t\n",
      "        val coef_dom : t -> elt\n",
      "        val map : (elt -> elt) -> t -> t\n",
      "        val evaluer : t -> elt -> elt\n",
      "        val normalise : t -> t\n",
      "        val unitaire : t -> t\n",
      "        val decale : t -> int -> t\n",
      "        val monome : elt -> int -> t\n",
      "        val reciproque : t -> t\n",
      "        val coef_constant : t -> elt\n",
      "        val degre : t -> int\n",
      "        val derive : t -> t\n",
      "        val opp : t -> t\n",
      "        val add : t -> t -> t\n",
      "        val sub : t -> t -> t\n",
      "        val mul : t -> t -> t\n",
      "        val pow : t -> int -> t\n",
      "        val powmod : t -> int -> t -> t\n",
      "        val division : t -> t -> t * t\n",
      "        val quotient : t -> t -> t\n",
      "        val modulo : t -> t -> t\n",
      "        val mul_par_scal : t -> elt -> t\n",
      "        val translate : int -> t -> t\n",
      "        val pgcd : t -> t -> t\n",
      "        val euclide : t -> t -> t * t * t\n",
      "        val random : int -> t\n",
      "        val to_string : t -> string\n",
      "        val print : t -> unit\n",
      "      end\n",
      "    module Polynome :\n",
      "      functor (Corps : CorpsType) ->\n",
      "        sig\n",
      "          type t\n",
      "          type elt = Corps.t\n",
      "          val carac : int\n",
      "          val cardinal : int\n",
      "          val of_list : elt list -> t\n",
      "          val to_list : t -> elt list\n",
      "          val zero : t\n",
      "          val one : t\n",
      "          val coef_dom : t -> elt\n",
      "          val map : (elt -> elt) -> t -> t\n",
      "          val evaluer : t -> elt -> elt\n",
      "          val normalise : t -> t\n",
      "          val unitaire : t -> t\n",
      "          val decale : t -> int -> t\n",
      "          val monome : elt -> int -> t\n",
      "          val reciproque : t -> t\n",
      "          val coef_constant : t -> elt\n",
      "          val degre : t -> int\n",
      "          val derive : t -> t\n",
      "          val opp : t -> t\n",
      "          val add : t -> t -> t\n",
      "          val sub : t -> t -> t\n",
      "          val mul : t -> t -> t\n",
      "          val pow : t -> int -> t\n",
      "          val powmod : t -> int -> t -> t\n",
      "          val division : t -> t -> t * t\n",
      "          val quotient : t -> t -> t\n",
      "          val modulo : t -> t -> t\n",
      "          val mul_par_scal : t -> elt -> t\n",
      "          val translate : int -> t -> t\n",
      "          val pgcd : t -> t -> t\n",
      "          val euclide : t -> t -> t * t * t\n",
      "          val random : int -> t\n",
      "          val to_string : t -> string\n",
      "          val print : t -> unit\n",
      "        end\n",
      "  end\n",
      "module Cantorzass :\n",
      "  sig\n",
      "    module type PolyType = Polynome.PolyType\n",
      "    module type CzType =\n",
      "      sig\n",
      "        type poly\n",
      "        val cantor_zassenhaus : poly -> int -> poly\n",
      "        val factorisation : poly -> int -> poly list\n",
      "      end\n",
      "    module Cantorzass :\n",
      "      functor (Poly : PolyType) ->\n",
      "        sig\n",
      "          type poly = Poly.t\n",
      "          val cantor_zassenhaus : poly -> int -> poly\n",
      "          val factorisation : poly -> int -> poly list\n",
      "        end\n",
      "  end\n",
      "module Cyclo :\n",
      "  sig\n",
      "    module type PolyType = Polynome.PolyType\n",
      "    module type CycloType =\n",
      "      sig\n",
      "        type poly\n",
      "        val decomposer : int -> int list\n",
      "        val cyclo : int -> poly\n",
      "      end\n",
      "    module Cyclo :\n",
      "      functor (Poly : PolyType) ->\n",
      "        sig\n",
      "          type poly = Poly.t\n",
      "          val decomposer : int -> int list\n",
      "          val cyclo : int -> Poly.t\n",
      "        end\n",
      "  end\n",
      "module Frobenius :\n",
      "  sig\n",
      "    module type BaseFieldT = Frobenius_base.BaseFieldT\n",
      "    module type TailleT = Frobenius_base.TailleT\n",
      "    module FrobeniusBase = Frobenius_base.FrobeniusBase\n",
      "    module type FieldT =\n",
      "      sig\n",
      "        type t\n",
      "        val zero : t\n",
      "        val one : t\n",
      "        val carac : int\n",
      "        val dim : int\n",
      "        val cardinal : int\n",
      "        val to_int : t -> int\n",
      "        val of_int : int -> t\n",
      "        val to_list : t -> int list\n",
      "        val elt_of_list_int : int list -> t\n",
      "        val to_string : t -> string\n",
      "        val print : t -> unit\n",
      "        val print_table : unit -> unit\n",
      "        val add : t -> t -> t\n",
      "        val sub : t -> t -> t\n",
      "        val opp : t -> t\n",
      "        val mul : t -> t -> t\n",
      "        val inv : t -> t\n",
      "        val div : t -> t -> t\n",
      "        val pow : t -> int -> t\n",
      "        val random : unit -> t\n",
      "        val alpha : t\n",
      "      end\n",
      "    module Frobenius : functor (Taille : TailleT) -> FieldT\n",
      "  end\n"
     ]
    }
   ],
   "source": [
    "#mod_use \"../src/frobenius_base.ml\"\n",
    "#mod_use \"../src/polynome.ml\"\n",
    "#mod_use \"../src/cantorzass.ml\"\n",
    "#mod_use \"../src/cyclo.ml\"\n",
    "#mod_use \"../src/frobenius.ml\""
   ]
  },
  {
   "cell_type": "markdown",
   "metadata": {},
   "source": [
    "Now, let's build $ \\mathbf{F}_3  = \\mathbf{Z}/(3\\mathbf{Z})$ :"
   ]
  },
  {
   "cell_type": "code",
   "execution_count": 265,
   "metadata": {
    "scrolled": true
   },
   "outputs": [
    {
     "data": {
      "text/plain": [
       "module T3 : sig val carac : int end\n"
      ]
     },
     "execution_count": 265,
     "metadata": {},
     "output_type": "execute_result"
    },
    {
     "data": {
      "text/plain": [
       "module F3 :\n",
       "  sig\n",
       "    type t = Frobenius.Frobenius(T3).t\n",
       "    val zero : t\n",
       "    val one : t\n",
       "    val carac : int\n",
       "    val dim : int\n",
       "    val cardinal : int\n",
       "    val to_int : t -> int\n",
       "    val of_int : int -> t\n",
       "    val to_list : t -> int list\n",
       "    val elt_of_list_int : int list -> t\n",
       "    val to_string : t -> string\n",
       "    val print : t -> unit\n",
       "    val print_table : unit -> unit\n",
       "    val add : t -> t -> t\n",
       "    val sub : t -> t -> t\n",
       "    val opp : t -> t\n",
       "    val mul : t -> t -> t\n",
       "    val inv : t -> t\n",
       "    val div : t -> t -> t\n",
       "    val pow : t -> int -> t\n",
       "    val random : unit -> t\n",
       "    val alpha : t\n",
       "  end\n"
      ]
     },
     "execution_count": 265,
     "metadata": {},
     "output_type": "execute_result"
    }
   ],
   "source": [
    "module T3 = struct\n",
    "    let carac = 3\n",
    "end\n",
    "\n",
    "module F3 = Frobenius.Frobenius(T3)"
   ]
  },
  {
   "cell_type": "code",
   "execution_count": 266,
   "metadata": {},
   "outputs": [
    {
     "data": {
      "text/plain": [
       "- : string = \"2%3\"\n"
      ]
     },
     "execution_count": 266,
     "metadata": {},
     "output_type": "execute_result"
    }
   ],
   "source": [
    "F3.(to_string alpha)"
   ]
  },
  {
   "cell_type": "markdown",
   "metadata": {},
   "source": [
    "We can now see that the 2 is a (the) primitive element in this field. \n",
    "If we need more flexible representation, we can just use other primitives :"
   ]
  },
  {
   "cell_type": "code",
   "execution_count": 267,
   "metadata": {},
   "outputs": [
    {
     "data": {
      "text/plain": [
       "- : int = 2\n"
      ]
     },
     "execution_count": 267,
     "metadata": {},
     "output_type": "execute_result"
    }
   ],
   "source": [
    "F3.(to_int alpha)"
   ]
  },
  {
   "cell_type": "markdown",
   "metadata": {},
   "source": [
    "Let's extend this field to make $ \\mathbf{F}_9 $. To do this, we're actually going to build $ \\mathbf{F}_3[X]/(f(x))$ where $f(x)$ is an irreducible polynomial of degree 2.\n",
    "First, we need to make polynoms out of these. Then, the module Cantorzass factorizes a cyclotomic polynomial and exten"
   ]
  },
  {
   "cell_type": "code",
   "execution_count": 268,
   "metadata": {
    "scrolled": true
   },
   "outputs": [
    {
     "name": "stdout",
     "output_type": "stream",
     "text": [
      "val pow_int : int -> int -> int = <fun>\n",
      "module type TT = sig val dim : int end\n",
      "module type CFT = Frobenius.FieldT\n",
      "module type ExtT =\n",
      "  sig\n",
      "    type t\n",
      "    val zero : t\n",
      "    val one : t\n",
      "    val to_int : t -> int\n",
      "    val of_int : int -> t\n",
      "    val to_string : t -> string\n",
      "    val print : t -> unit\n",
      "    val add : t -> t -> t\n",
      "    val sub : t -> t -> t\n",
      "    val opp : t -> t\n",
      "    val mul : t -> t -> t\n",
      "    val inv : t -> t\n",
      "    val div : t -> t -> t\n",
      "    val pow : t -> int -> t\n",
      "    val random : unit -> t\n",
      "    val alpha : t\n",
      "    type elt\n",
      "    exception ExtraireImpossible\n",
      "    module Poly :\n",
      "      sig\n",
      "        type t\n",
      "        type elt = elt\n",
      "        val carac : int\n",
      "        val cardinal : int\n",
      "        val of_list : elt list -> t\n",
      "        val to_list : t -> elt list\n",
      "        val zero : t\n",
      "        val one : t\n",
      "        val coef_dom : t -> elt\n",
      "        val map : (elt -> elt) -> t -> t\n",
      "        val evaluer : t -> elt -> elt\n",
      "        val normalise : t -> t\n",
      "        val unitaire : t -> t\n",
      "        val decale : t -> int -> t\n",
      "        val monome : elt -> int -> t\n",
      "        val reciproque : t -> t\n",
      "        val coef_constant : t -> elt\n",
      "        val degre : t -> int\n",
      "        val derive : t -> t\n",
      "        val opp : t -> t\n",
      "        val add : t -> t -> t\n",
      "        val sub : t -> t -> t\n",
      "        val mul : t -> t -> t\n",
      "        val pow : t -> int -> t\n",
      "        val powmod : t -> int -> t -> t\n",
      "        val division : t -> t -> t * t\n",
      "        val quotient : t -> t -> t\n",
      "        val modulo : t -> t -> t\n",
      "        val mul_par_scal : t -> elt -> t\n",
      "        val translate : int -> t -> t\n",
      "        val pgcd : t -> t -> t\n",
      "        val euclide : t -> t -> t * t * t\n",
      "        val random : int -> t\n",
      "        val to_string : t -> string\n",
      "        val print : t -> unit\n",
      "      end\n",
      "    module Cz :\n",
      "      sig\n",
      "        type poly = Poly.t\n",
      "        val cantor_zassenhaus : poly -> int -> poly\n",
      "        val factorisation : poly -> int -> poly list\n",
      "      end\n",
      "    module Cyclo :\n",
      "      sig\n",
      "        type poly = Poly.t\n",
      "        val decomposer : int -> int list\n",
      "        val cyclo : int -> poly\n",
      "      end\n",
      "    module Conv :\n",
      "      sig\n",
      "        val int_of_poly : Poly.t -> int\n",
      "        val list_of_poly : Poly.t -> int list\n",
      "        val poly_of_int : int -> Poly.t\n",
      "        val completer : int list -> int list\n",
      "      end\n",
      "    val carac : int\n",
      "    val dim : int\n",
      "    val cardinal : int\n",
      "    val poly_irr : Poly.t\n",
      "    val to_list : t -> int list\n",
      "    val elt_of_list_int : int list -> t\n",
      "    val extraire : t -> elt\n",
      "    val incorporer : elt -> t\n",
      "    val print_table : unit -> unit\n",
      "  end\n",
      "module ExtensionNonOpt :\n",
      "  functor (CorpsBase : CFT) (Taille : TT) ->\n",
      "    sig\n",
      "      type t\n",
      "      val zero : t\n",
      "      val one : t\n",
      "      val to_int : t -> int\n",
      "      val of_int : int -> t\n",
      "      val to_string : t -> string\n",
      "      val print : t -> unit\n",
      "      val add : t -> t -> t\n",
      "      val sub : t -> t -> t\n",
      "      val opp : t -> t\n",
      "      val mul : t -> t -> t\n",
      "      val inv : t -> t\n",
      "      val div : t -> t -> t\n",
      "      val pow : t -> int -> t\n",
      "      val random : unit -> t\n",
      "      val alpha : t\n",
      "      type elt = CorpsBase.t\n",
      "      exception ExtraireImpossible\n",
      "      module Poly :\n",
      "        sig\n",
      "          type t\n",
      "          type elt = elt\n",
      "          val carac : int\n",
      "          val cardinal : int\n",
      "          val of_list : elt list -> t\n",
      "          val to_list : t -> elt list\n",
      "          val zero : t\n",
      "          val one : t\n",
      "          val coef_dom : t -> elt\n",
      "          val map : (elt -> elt) -> t -> t\n",
      "          val evaluer : t -> elt -> elt\n",
      "          val normalise : t -> t\n",
      "          val unitaire : t -> t\n",
      "          val decale : t -> int -> t\n",
      "          val monome : elt -> int -> t\n",
      "          val reciproque : t -> t\n",
      "          val coef_constant : t -> elt\n",
      "          val degre : t -> int\n",
      "          val derive : t -> t\n",
      "          val opp : t -> t\n",
      "          val add : t -> t -> t\n",
      "          val sub : t -> t -> t\n",
      "          val mul : t -> t -> t\n",
      "          val pow : t -> int -> t\n",
      "          val powmod : t -> int -> t -> t\n",
      "          val division : t -> t -> t * t\n",
      "          val quotient : t -> t -> t\n",
      "          val modulo : t -> t -> t\n",
      "          val mul_par_scal : t -> elt -> t\n",
      "          val translate : int -> t -> t\n",
      "          val pgcd : t -> t -> t\n",
      "          val euclide : t -> t -> t * t * t\n",
      "          val random : int -> t\n",
      "          val to_string : t -> string\n",
      "          val print : t -> unit\n",
      "        end\n",
      "      module Cz :\n",
      "        sig\n",
      "          type poly = Poly.t\n",
      "          val cantor_zassenhaus : poly -> int -> poly\n",
      "          val factorisation : poly -> int -> poly list\n",
      "        end\n",
      "      module Cyclo :\n",
      "        sig\n",
      "          type poly = Poly.t\n",
      "          val decomposer : int -> int list\n",
      "          val cyclo : int -> poly\n",
      "        end\n",
      "      module Conv :\n",
      "        sig\n",
      "          val int_of_poly : Poly.t -> int\n",
      "          val list_of_poly : Poly.t -> int list\n",
      "          val poly_of_int : int -> Poly.t\n",
      "          val completer : int list -> int list\n",
      "        end\n",
      "      val carac : int\n",
      "      val dim : int\n",
      "      val cardinal : int\n",
      "      val poly_irr : Poly.t\n",
      "      val to_list : t -> int list\n",
      "      val elt_of_list_int : int list -> t\n",
      "      val extraire : t -> elt\n",
      "      val incorporer : elt -> t\n",
      "      val print_table : unit -> unit\n",
      "    end\n",
      "module type CycloType = Cyclo.CycloType\n",
      "module type ExtOptT =\n",
      "  sig\n",
      "    type t\n",
      "    val zero : t\n",
      "    val one : t\n",
      "    val to_int : t -> int\n",
      "    val of_int : int -> t\n",
      "    val to_string : t -> string\n",
      "    val print : t -> unit\n",
      "    val add : t -> t -> t\n",
      "    val sub : t -> t -> t\n",
      "    val opp : t -> t\n",
      "    val mul : t -> t -> t\n",
      "    val inv : t -> t\n",
      "    val div : t -> t -> t\n",
      "    val pow : t -> int -> t\n",
      "    val random : unit -> t\n",
      "    val alpha : t\n",
      "    type elt\n",
      "    exception ExtraireImpossible\n",
      "    module Poly :\n",
      "      sig\n",
      "        type t\n",
      "        type elt = elt\n",
      "        val carac : int\n",
      "        val cardinal : int\n",
      "        val of_list : elt list -> t\n",
      "        val to_list : t -> elt list\n",
      "        val zero : t\n",
      "        val one : t\n",
      "        val coef_dom : t -> elt\n",
      "        val map : (elt -> elt) -> t -> t\n",
      "        val evaluer : t -> elt -> elt\n",
      "        val normalise : t -> t\n",
      "        val unitaire : t -> t\n",
      "        val decale : t -> int -> t\n",
      "        val monome : elt -> int -> t\n",
      "        val reciproque : t -> t\n",
      "        val coef_constant : t -> elt\n",
      "        val degre : t -> int\n",
      "        val derive : t -> t\n",
      "        val opp : t -> t\n",
      "        val add : t -> t -> t\n",
      "        val sub : t -> t -> t\n",
      "        val mul : t -> t -> t\n",
      "        val pow : t -> int -> t\n",
      "        val powmod : t -> int -> t -> t\n",
      "        val division : t -> t -> t * t\n",
      "        val quotient : t -> t -> t\n",
      "        val modulo : t -> t -> t\n",
      "        val mul_par_scal : t -> elt -> t\n",
      "        val translate : int -> t -> t\n",
      "        val pgcd : t -> t -> t\n",
      "        val euclide : t -> t -> t * t * t\n",
      "        val random : int -> t\n",
      "        val to_string : t -> string\n",
      "        val print : t -> unit\n",
      "      end\n",
      "    module Cz :\n",
      "      sig\n",
      "        type poly = Poly.t\n",
      "        val cantor_zassenhaus : poly -> int -> poly\n",
      "        val factorisation : poly -> int -> poly list\n",
      "      end\n",
      "    val carac : int\n",
      "    val dim : int\n",
      "    val cardinal : int\n",
      "    val poly_irr : Poly.t\n",
      "    val to_list : t -> int list\n",
      "    val elt_of_list_int : int list -> t\n",
      "    val extraire : t -> elt\n",
      "    val incorporer : elt -> t\n",
      "    val print_table : unit -> unit\n",
      "    module IntExt : sig type t end\n",
      "    module Cyclo :\n",
      "      sig\n",
      "        type poly = Poly.t\n",
      "        val decomposer : int -> int list\n",
      "        val cyclo : int -> poly\n",
      "      end\n",
      "    module Conv :\n",
      "      sig val table_add : IntExt.t array val table_mul : Poly.t array end\n",
      "  end\n",
      "module ExtensionOpt :\n",
      "  functor (CorpsBase : CFT) (Taille : TT) ->\n",
      "    sig\n",
      "      type t\n",
      "      val zero : t\n",
      "      val one : t\n",
      "      val to_int : t -> int\n",
      "      val of_int : int -> t\n",
      "      val to_string : t -> string\n",
      "      val print : t -> unit\n",
      "      val add : t -> t -> t\n",
      "      val sub : t -> t -> t\n",
      "      val opp : t -> t\n",
      "      val mul : t -> t -> t\n",
      "      val inv : t -> t\n",
      "      val div : t -> t -> t\n",
      "      val pow : t -> int -> t\n",
      "      val random : unit -> t\n",
      "      val alpha : t\n",
      "      type elt = CorpsBase.t\n",
      "      exception ExtraireImpossible\n",
      "      module Poly :\n",
      "        sig\n",
      "          type t\n",
      "          type elt = elt\n",
      "          val carac : int\n",
      "          val cardinal : int\n",
      "          val of_list : elt list -> t\n",
      "          val to_list : t -> elt list\n",
      "          val zero : t\n",
      "          val one : t\n"
     ]
    },
    {
     "name": "stdout",
     "output_type": "stream",
     "text": [
      "          val coef_dom : t -> elt\n",
      "          val map : (elt -> elt) -> t -> t\n",
      "          val evaluer : t -> elt -> elt\n",
      "          val normalise : t -> t\n",
      "          val unitaire : t -> t\n",
      "          val decale : t -> int -> t\n",
      "          val monome : elt -> int -> t\n",
      "          val reciproque : t -> t\n",
      "          val coef_constant : t -> elt\n",
      "          val degre : t -> int\n",
      "          val derive : t -> t\n",
      "          val opp : t -> t\n",
      "          val add : t -> t -> t\n",
      "          val sub : t -> t -> t\n",
      "          val mul : t -> t -> t\n",
      "          val pow : t -> int -> t\n",
      "          val powmod : t -> int -> t -> t\n",
      "          val division : t -> t -> t * t\n",
      "          val quotient : t -> t -> t\n",
      "          val modulo : t -> t -> t\n",
      "          val mul_par_scal : t -> elt -> t\n",
      "          val translate : int -> t -> t\n",
      "          val pgcd : t -> t -> t\n",
      "          val euclide : t -> t -> t * t * t\n",
      "          val random : int -> t\n",
      "          val to_string : t -> string\n",
      "          val print : t -> unit\n",
      "        end\n",
      "      module Cz :\n",
      "        sig\n",
      "          type poly = Poly.t\n",
      "          val cantor_zassenhaus : poly -> int -> poly\n",
      "          val factorisation : poly -> int -> poly list\n",
      "        end\n",
      "      val carac : int\n",
      "      val dim : int\n",
      "      val cardinal : int\n",
      "      val poly_irr : Poly.t\n",
      "      val to_list : t -> int list\n",
      "      val elt_of_list_int : int list -> t\n",
      "      val extraire : t -> elt\n",
      "      val incorporer : elt -> t\n",
      "      val print_table : unit -> unit\n",
      "      module IntExt : sig type t end\n",
      "      module Cyclo :\n",
      "        sig\n",
      "          type poly = Poly.t\n",
      "          val decomposer : int -> int list\n",
      "          val cyclo : int -> poly\n",
      "        end\n",
      "      module Conv :\n",
      "        sig val table_add : IntExt.t array val table_mul : Poly.t array end\n",
      "    end\n"
     ]
    }
   ],
   "source": [
    "#use \"../src/extensions.ml\""
   ]
  },
  {
   "cell_type": "code",
   "execution_count": 269,
   "metadata": {
    "scrolled": true
   },
   "outputs": [
    {
     "data": {
      "text/plain": [
       "module T6 : sig val carac : int val dim : int end\n"
      ]
     },
     "execution_count": 269,
     "metadata": {},
     "output_type": "execute_result"
    },
    {
     "data": {
      "text/plain": [
       "module F9 :\n",
       "  sig\n",
       "    type t = ExtensionOpt(F3)(T6).t\n",
       "    val zero : t\n",
       "    val one : t\n",
       "    val to_int : t -> int\n",
       "    val of_int : int -> t\n",
       "    val to_string : t -> string\n",
       "    val print : t -> unit\n",
       "    val add : t -> t -> t\n",
       "    val sub : t -> t -> t\n",
       "    val opp : t -> t\n",
       "    val mul : t -> t -> t\n",
       "    val inv : t -> t\n",
       "    val div : t -> t -> t\n",
       "    val pow : t -> int -> t\n",
       "    val random : unit -> t\n",
       "    val alpha : t\n",
       "    type elt = F3.t\n",
       "    exception ExtraireImpossible\n",
       "    module Poly :\n",
       "      sig\n",
       "        type t = ExtensionOpt(F3)(T6).Poly.t\n",
       "        type elt = elt\n",
       "        val carac : int\n",
       "        val cardinal : int\n",
       "        val of_list : elt list -> t\n",
       "        val to_list : t -> elt list\n",
       "        val zero : t\n",
       "        val one : t\n",
       "        val coef_dom : t -> elt\n",
       "        val map : (elt -> elt) -> t -> t\n",
       "        val evaluer : t -> elt -> elt\n",
       "        val normalise : t -> t\n",
       "        val unitaire : t -> t\n",
       "        val decale : t -> int -> t\n",
       "        val monome : elt -> int -> t\n",
       "        val reciproque : t -> t\n",
       "        val coef_constant : t -> elt\n",
       "        val degre : t -> int\n",
       "        val derive : t -> t\n",
       "        val opp : t -> t\n",
       "        val add : t -> t -> t\n",
       "        val sub : t -> t -> t\n",
       "        val mul : t -> t -> t\n",
       "        val pow : t -> int -> t\n",
       "        val powmod : t -> int -> t -> t\n",
       "        val division : t -> t -> t * t\n",
       "        val quotient : t -> t -> t\n",
       "        val modulo : t -> t -> t\n",
       "        val mul_par_scal : t -> elt -> t\n",
       "        val translate : int -> t -> t\n",
       "        val pgcd : t -> t -> t\n",
       "        val euclide : t -> t -> t * t * t\n",
       "        val random : int -> t\n",
       "        val to_string : t -> string\n",
       "        val print : t -> unit\n",
       "      end\n",
       "    module Cz :\n",
       "      sig\n",
       "        type poly = Poly.t\n",
       "        val cantor_zassenhaus : poly -> int -> poly\n",
       "        val factorisation : poly -> int -> poly list\n",
       "      end\n",
       "    val carac : int\n",
       "    val dim : int\n",
       "    val cardinal : int\n",
       "    val poly_irr : Poly.t\n",
       "    val to_list : t -> int list\n",
       "    val elt_of_list_int : int list -> t\n",
       "    val extraire : t -> elt\n",
       "    val incorporer : elt -> t\n",
       "    val print_table : unit -> unit\n",
       "    module IntExt : sig type t = ExtensionOpt(F3)(T6).IntExt.t end\n",
       "    module Cyclo :\n",
       "      sig\n",
       "        type poly = Poly.t\n",
       "        val decomposer : int -> int list\n",
       "        val cyclo : int -> poly\n",
       "      end\n",
       "    module Conv :\n",
       "      sig val table_add : IntExt.t array val table_mul : Poly.t array end\n",
       "  end\n"
      ]
     },
     "execution_count": 269,
     "metadata": {},
     "output_type": "execute_result"
    }
   ],
   "source": [
    "module T6 = struct\n",
    "    let carac = 3\n",
    "    let dim = 2\n",
    "end\n",
    "\n",
    "module F9 = ExtensionOpt(F3)(T6)"
   ]
  },
  {
   "cell_type": "code",
   "execution_count": 270,
   "metadata": {
    "scrolled": true
   },
   "outputs": [
    {
     "name": "stdout",
     "output_type": "stream",
     "text": [
      "a^1\n",
      "a^2\n",
      "a^3\n",
      "a^4\n",
      "a^5\n",
      "a^6\n",
      "a^7\n",
      "a^0\n",
      "\n",
      "1%3X^0\n",
      "0%3X^0 + 1%3X^1\n",
      "1%3X^0 + 1%3X^1\n",
      "1%3X^0 + 2%3X^1\n",
      "2%3X^0\n",
      "0%3X^0 + 2%3X^1\n",
      "2%3X^0 + 2%3X^1\n",
      "2%3X^0 + 1%3X^1\n"
     ]
    },
    {
     "data": {
      "text/plain": [
       "- : unit = ()\n"
      ]
     },
     "execution_count": 270,
     "metadata": {},
     "output_type": "execute_result"
    }
   ],
   "source": [
    "let _ = \n",
    "    let open F9 in\n",
    "    let rec enum x = match x with\n",
    "        | a when a=one -> print one ; print_newline() ;\n",
    "        | a -> print a ; print_newline() ; enum (mul a alpha)\n",
    "    in enum alpha\n",
    ";\n",
    "print_newline() ; F9.print_table ()"
   ]
  },
  {
   "cell_type": "code",
   "execution_count": 271,
   "metadata": {},
   "outputs": [
    {
     "data": {
      "text/plain": [
       "- : unit = ()\n"
      ]
     },
     "execution_count": 271,
     "metadata": {},
     "output_type": "execute_result"
    }
   ],
   "source": [
    "F9.(Poly.decale Poly.one 1 |> Poly.print)"
   ]
  },
  {
   "cell_type": "code",
   "execution_count": 272,
   "metadata": {
    "scrolled": true
   },
   "outputs": [
    {
     "data": {
      "text/plain": [
       "module F9' :\n",
       "  sig\n",
       "    type t = ExtensionNonOpt(F3)(T6).t\n",
       "    val zero : t\n",
       "    val one : t\n",
       "    val to_int : t -> int\n",
       "    val of_int : int -> t\n",
       "    val to_string : t -> string\n",
       "    val print : t -> unit\n",
       "    val add : t -> t -> t\n",
       "    val sub : t -> t -> t\n",
       "    val opp : t -> t\n",
       "    val mul : t -> t -> t\n",
       "    val inv : t -> t\n",
       "    val div : t -> t -> t\n",
       "    val pow : t -> int -> t\n",
       "    val random : unit -> t\n",
       "    val alpha : t\n",
       "    type elt = F3.t\n",
       "    exception ExtraireImpossible\n",
       "    module Poly :\n",
       "      sig\n",
       "        type t = ExtensionNonOpt(F3)(T6).Poly.t\n",
       "        type elt = elt\n",
       "        val carac : int\n",
       "        val cardinal : int\n",
       "        val of_list : elt list -> t\n",
       "        val to_list : t -> elt list\n",
       "        val zero : t\n",
       "        val one : t\n",
       "        val coef_dom : t -> elt\n",
       "        val map : (elt -> elt) -> t -> t\n",
       "        val evaluer : t -> elt -> elt\n",
       "        val normalise : t -> t\n",
       "        val unitaire : t -> t\n",
       "        val decale : t -> int -> t\n",
       "        val monome : elt -> int -> t\n",
       "        val reciproque : t -> t\n",
       "        val coef_constant : t -> elt\n",
       "        val degre : t -> int\n",
       "        val derive : t -> t\n",
       "        val opp : t -> t\n",
       "        val add : t -> t -> t\n",
       "        val sub : t -> t -> t\n",
       "        val mul : t -> t -> t\n",
       "        val pow : t -> int -> t\n",
       "        val powmod : t -> int -> t -> t\n",
       "        val division : t -> t -> t * t\n",
       "        val quotient : t -> t -> t\n",
       "        val modulo : t -> t -> t\n",
       "        val mul_par_scal : t -> elt -> t\n",
       "        val translate : int -> t -> t\n",
       "        val pgcd : t -> t -> t\n",
       "        val euclide : t -> t -> t * t * t\n",
       "        val random : int -> t\n",
       "        val to_string : t -> string\n",
       "        val print : t -> unit\n",
       "      end\n",
       "    module Cz :\n",
       "      sig\n",
       "        type poly = Poly.t\n",
       "        val cantor_zassenhaus : poly -> int -> poly\n",
       "        val factorisation : poly -> int -> poly list\n",
       "      end\n",
       "    module Cyclo :\n",
       "      sig\n",
       "        type poly = Poly.t\n",
       "        val decomposer : int -> int list\n",
       "        val cyclo : int -> poly\n",
       "      end\n",
       "    module Conv :\n",
       "      sig\n",
       "        val int_of_poly : Poly.t -> int\n",
       "        val list_of_poly : Poly.t -> int list\n",
       "        val poly_of_int : int -> Poly.t\n",
       "        val completer : int list -> int list\n",
       "      end\n",
       "    val carac : int\n",
       "    val dim : int\n",
       "    val cardinal : int\n",
       "    val poly_irr : Poly.t\n",
       "    val to_list : t -> int list\n",
       "    val elt_of_list_int : int list -> t\n",
       "    val extraire : t -> elt\n",
       "    val incorporer : elt -> t\n",
       "    val print_table : unit -> unit\n",
       "  end\n"
      ]
     },
     "execution_count": 272,
     "metadata": {},
     "output_type": "execute_result"
    }
   ],
   "source": [
    "module F9' = ExtensionNonOpt(F3)(T6)"
   ]
  },
  {
   "cell_type": "code",
   "execution_count": 273,
   "metadata": {},
   "outputs": [
    {
     "data": {
      "text/plain": [
       "- : string = \"test\"\n"
      ]
     },
     "execution_count": 273,
     "metadata": {},
     "output_type": "execute_result"
    }
   ],
   "source": [
    "F9'.(to_string alpha)"
   ]
  },
  {
   "cell_type": "code",
   "execution_count": 274,
   "metadata": {},
   "outputs": [
    {
     "name": "stdout",
     "output_type": "stream",
     "text": [
      "0%3X^0 + 1%3X^1a^1\n"
     ]
    },
    {
     "data": {
      "text/plain": [
       "- : unit = ()\n"
      ]
     },
     "execution_count": 274,
     "metadata": {},
     "output_type": "execute_result"
    }
   ],
   "source": [
    "F9.(print alpha) ; print_newline ()"
   ]
  },
  {
   "cell_type": "code",
   "execution_count": 275,
   "metadata": {},
   "outputs": [
    {
     "data": {
      "text/plain": [
       "module type Test = sig type t = ExtensionOpt(F3)(T6).IntExt.t end\n"
      ]
     },
     "execution_count": 275,
     "metadata": {},
     "output_type": "execute_result"
    }
   ],
   "source": [
    "module type Test = module type of F9.IntExt"
   ]
  },
  {
   "cell_type": "code",
   "execution_count": 276,
   "metadata": {},
   "outputs": [
    {
     "ename": "error",
     "evalue": "compile_error",
     "output_type": "error",
     "traceback": [
      "File \"[276]\", line 1, characters 21-36:\n1 | Array.iter (fun n -> F9.IntExt.print n ; print_string \" \") F9.Conv.table_add ; print_newline()\n                         ^^^^^^^^^^^^^^^\nError: Unbound value F9.IntExt.print\n"
     ]
    }
   ],
   "source": [
    "Array.iter (fun n -> F9.IntExt.print n ; print_string \" \") F9.Conv.table_add ; print_newline()"
   ]
  },
  {
   "cell_type": "code",
   "execution_count": 277,
   "metadata": {},
   "outputs": [
    {
     "data": {
      "text/plain": [
       "- : unit = ()\n"
      ]
     },
     "execution_count": 277,
     "metadata": {},
     "output_type": "execute_result"
    }
   ],
   "source": [
    "Array.iter (fun poly -> F9.Poly.print poly) F9.Conv.table_mul"
   ]
  },
  {
   "cell_type": "code",
   "execution_count": 278,
   "metadata": {},
   "outputs": [
    {
     "name": "stdout",
     "output_type": "stream",
     "text": [
      "1%3X^00%3X^0 + 1%3X^11%3X^0 + 1%3X^11%3X^0 + 2%3X^12%3X^00%3X^0 + 2%3X^12%3X^0 + 2%3X^12%3X^0 + 1%3X^1Zerotest\n"
     ]
    },
    {
     "data": {
      "text/plain": [
       "- : unit = ()\n"
      ]
     },
     "execution_count": 278,
     "metadata": {},
     "output_type": "execute_result"
    }
   ],
   "source": [
    "F9'.(print alpha) ; print_newline()"
   ]
  },
  {
   "cell_type": "code",
   "execution_count": 279,
   "metadata": {},
   "outputs": [
    {
     "data": {
      "text/plain": [
       "module type Test = Polynome.CorpsType\n"
      ]
     },
     "execution_count": 279,
     "metadata": {},
     "output_type": "execute_result"
    }
   ],
   "source": [
    "module type Test = Polynome.CorpsType"
   ]
  },
  {
   "cell_type": "code",
   "execution_count": 280,
   "metadata": {
    "scrolled": true
   },
   "outputs": [
    {
     "data": {
      "text/plain": [
       "module type Test =\n",
       "  sig\n",
       "    type t = Frobenius.Frobenius(T3).t\n",
       "    val zero : t\n",
       "    val one : t\n",
       "    val carac : int\n",
       "    val dim : int\n",
       "    val cardinal : int\n",
       "    val to_int : t -> int\n",
       "    val of_int : int -> t\n",
       "    val to_list : t -> int list\n",
       "    val elt_of_list_int : int list -> t\n",
       "    val to_string : t -> string\n",
       "    val print : t -> unit\n",
       "    val print_table : unit -> unit\n",
       "    val add : t -> t -> t\n",
       "    val sub : t -> t -> t\n",
       "    val opp : t -> t\n",
       "    val mul : t -> t -> t\n",
       "    val inv : t -> t\n",
       "    val div : t -> t -> t\n",
       "    val pow : t -> int -> t\n",
       "    val random : unit -> t\n",
       "    val alpha : t\n",
       "  end\n"
      ]
     },
     "execution_count": 280,
     "metadata": {},
     "output_type": "execute_result"
    }
   ],
   "source": [
    "module type Test = module type of F3"
   ]
  },
  {
   "cell_type": "code",
   "execution_count": 281,
   "metadata": {
    "scrolled": true
   },
   "outputs": [
    {
     "data": {
      "text/plain": [
       "module MyInt :\n",
       "  sig\n",
       "    type t = int\n",
       "    val zero : int\n",
       "    val one : int\n",
       "    val minus_one : int\n",
       "    external neg : int -> int = \"%negint\"\n",
       "    external add : int -> int -> int = \"%addint\"\n",
       "    external sub : int -> int -> int = \"%subint\"\n",
       "    external mul : int -> int -> int = \"%mulint\"\n",
       "    external div : int -> int -> int = \"%divint\"\n",
       "    external rem : int -> int -> int = \"%modint\"\n",
       "    external succ : int -> int = \"%succint\"\n",
       "    external pred : int -> int = \"%predint\"\n",
       "    val abs : int -> int\n",
       "    val max_int : int\n",
       "    val min_int : int\n",
       "    external logand : int -> int -> int = \"%andint\"\n",
       "    external logor : int -> int -> int = \"%orint\"\n",
       "    external logxor : int -> int -> int = \"%xorint\"\n",
       "    val lognot : int -> int\n",
       "    external shift_left : int -> int -> int = \"%lslint\"\n",
       "    external shift_right : int -> int -> int = \"%asrint\"\n",
       "    external shift_right_logical : int -> int -> int = \"%lsrint\"\n",
       "    val equal : int -> int -> bool\n",
       "    val compare : int -> int -> int\n",
       "    external to_float : int -> float = \"%floatofint\"\n",
       "    external of_float : float -> int = \"%intoffloat\"\n",
       "    val to_string : int -> string\n",
       "    val print : int -> unit\n",
       "    val to_int : 'a -> 'a\n",
       "    val of_int : 'a -> 'a\n",
       "    val elt_of_list_int : int list -> int\n",
       "    val to_list : 'a -> 'a list\n",
       "    val cardinal : int\n",
       "    val carac : int\n",
       "    val dim : int\n",
       "    val pow : int -> int -> int\n",
       "    val random : unit -> int\n",
       "    val inv : int -> int\n",
       "    val opp : int -> int\n",
       "    val print_table : unit -> unit\n",
       "  end\n"
      ]
     },
     "execution_count": 281,
     "metadata": {},
     "output_type": "execute_result"
    }
   ],
   "source": [
    "module MyInt = struct\n",
    "    include Int\n",
    "    let print = print_int\n",
    "    let to_int n = n\n",
    "    let of_int n = n\n",
    "    let elt_of_list_int l =\n",
    "        match l with\n",
    "        | [] -> 0\n",
    "        | [ a ] -> a\n",
    "        | _ -> failwith \"element of list int : Frob\"\n",
    "\n",
    "    let to_list a = [ a ]\n",
    "    let cardinal = 1000\n",
    "    let carac = 1000\n",
    "    let dim = 1\n",
    "\n",
    "    let rec pow a = function\n",
    "      | 0 -> 1\n",
    "      | 1 -> a\n",
    "      | k -> a * pow a (k - 1)\n",
    "    let random = fun () -> Random.int 100\n",
    "    let inv a = 1 / a\n",
    "    let opp a = -a\n",
    "    let print_table = fun () -> ()\n",
    "end"
   ]
  },
  {
   "cell_type": "code",
   "execution_count": 282,
   "metadata": {
    "scrolled": true
   },
   "outputs": [
    {
     "data": {
      "text/plain": [
       "module IntPoly :\n",
       "  sig\n",
       "    type t = Polynome.Polynome(MyInt).t\n",
       "    type elt = MyInt.t\n",
       "    val carac : int\n",
       "    val cardinal : int\n",
       "    val of_list : elt list -> t\n",
       "    val to_list : t -> elt list\n",
       "    val zero : t\n",
       "    val one : t\n",
       "    val coef_dom : t -> elt\n",
       "    val map : (elt -> elt) -> t -> t\n",
       "    val evaluer : t -> elt -> elt\n",
       "    val normalise : t -> t\n",
       "    val unitaire : t -> t\n",
       "    val decale : t -> int -> t\n",
       "    val monome : elt -> int -> t\n",
       "    val reciproque : t -> t\n",
       "    val coef_constant : t -> elt\n",
       "    val degre : t -> int\n",
       "    val derive : t -> t\n",
       "    val opp : t -> t\n",
       "    val add : t -> t -> t\n",
       "    val sub : t -> t -> t\n",
       "    val mul : t -> t -> t\n",
       "    val pow : t -> int -> t\n",
       "    val powmod : t -> int -> t -> t\n",
       "    val division : t -> t -> t * t\n",
       "    val quotient : t -> t -> t\n",
       "    val modulo : t -> t -> t\n",
       "    val mul_par_scal : t -> elt -> t\n",
       "    val translate : int -> t -> t\n",
       "    val pgcd : t -> t -> t\n",
       "    val euclide : t -> t -> t * t * t\n",
       "    val random : int -> t\n",
       "    val to_string : t -> string\n",
       "    val print : t -> unit\n",
       "  end\n"
      ]
     },
     "execution_count": 282,
     "metadata": {},
     "output_type": "execute_result"
    }
   ],
   "source": [
    "module IntPoly = Polynome.Polynome (MyInt)"
   ]
  },
  {
   "cell_type": "code",
   "execution_count": 293,
   "metadata": {},
   "outputs": [
    {
     "data": {
      "text/plain": [
       "- : string = \"43X^0 + 84X^1 + 47X^2\"\n"
      ]
     },
     "execution_count": 293,
     "metadata": {},
     "output_type": "execute_result"
    }
   ],
   "source": [
    "IntPoly.(random 3 |> to_string)"
   ]
  },
  {
   "cell_type": "code",
   "execution_count": 284,
   "metadata": {},
   "outputs": [
    {
     "data": {
      "text/plain": [
       "val p : F9.Poly.t = <abstr>\n"
      ]
     },
     "execution_count": 284,
     "metadata": {},
     "output_type": "execute_result"
    },
    {
     "data": {
      "text/plain": [
       "- : unit = ()\n"
      ]
     },
     "execution_count": 284,
     "metadata": {},
     "output_type": "execute_result"
    },
    {
     "data": {
      "text/plain": [
       "- : string = \"2%3X^0 + 1%3X^1\"\n"
      ]
     },
     "execution_count": 284,
     "metadata": {},
     "output_type": "execute_result"
    }
   ],
   "source": [
    "let p = F9.Poly.random 3 ;;\n",
    "F9.Poly.print p ;;\n",
    "F9.Poly.to_string p"
   ]
  },
  {
   "cell_type": "code",
   "execution_count": 285,
   "metadata": {},
   "outputs": [
    {
     "name": "stdout",
     "output_type": "stream",
     "text": [
      "61X^0 + 11X^1 + 80X^22%3X^0 + 1%3X^1\n"
     ]
    },
    {
     "data": {
      "text/plain": [
       "- : unit = ()\n"
      ]
     },
     "execution_count": 285,
     "metadata": {},
     "output_type": "execute_result"
    }
   ],
   "source": [
    "print_newline()"
   ]
  }
 ],
 "metadata": {
  "kernelspec": {
   "display_name": "OCaml 4.09.0",
   "language": "OCaml",
   "name": "ocaml-jupyter"
  },
  "language_info": {
   "codemirror_mode": "text/x-ocaml",
   "file_extension": ".ml",
   "mimetype": "text/x-ocaml",
   "name": "OCaml",
   "nbconverter_exporter": zerol,
   "pygments_lexer": "OCaml",
   "version": "4.09.0"
  }
 },
 "nbformat": 4,
 "nbformat_minor": 2
}
