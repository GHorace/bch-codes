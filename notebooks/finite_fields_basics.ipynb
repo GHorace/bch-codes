{
 "cells": [
  {
   "cell_type": "markdown",
   "metadata": {},
   "source": [
    "This notebook makes use of https://github.com/akabe/ocaml-jupyter with ocaml 4.02.3\n",
    "\n",
    "# Prime fields\n",
    "Let's use our module to build Frobenius fields, aka prime fields $ \\mathbf{F}_p $.\n",
    "\n",
    "First, we need to load the functor that makes a field based on a characteristic `carac`, which must be a prime."
   ]
  },
  {
   "cell_type": "code",
   "execution_count": 1,
   "metadata": {
    "scrolled": true
   },
   "outputs": [
    {
     "name": "stdout",
     "output_type": "stream",
     "text": [
      "module PrimeField :\n",
      "  sig\n",
      "    module type FieldT =\n",
      "      sig\n",
      "        type t\n",
      "        val zero : t\n",
      "        val one : t\n",
      "        val carac : int\n",
      "        val dim : int\n",
      "        val cardinal : int\n",
      "        val add : t -> t -> t\n",
      "        val sub : t -> t -> t\n",
      "        val neg : t -> t\n",
      "        val mul : t -> t -> t\n",
      "        val inv : t -> t\n",
      "        val div : t -> t -> t\n",
      "        val pow : t -> int -> t\n",
      "        val to_int : t -> int\n",
      "        val of_int : int -> t\n",
      "        val to_list : t -> int list\n",
      "        val elt_of_list_int : int list -> t\n",
      "        val to_string : t -> string\n",
      "        val alpha : t\n",
      "        val print : t -> unit\n",
      "        val print_table : unit -> unit\n",
      "        val random : unit -> t\n",
      "      end\n",
      "    module type TailleT = sig val carac : int end\n",
      "    module PrimeField : functor (Taille : TailleT) -> FieldT\n",
      "  end\n",
      "module Polynome :\n",
      "  sig\n",
      "    module type CorpsType = PrimeField.FieldT\n",
      "    module type PolyType =\n",
      "      sig\n",
      "        type t\n",
      "        type elt\n",
      "        val of_list : elt list -> t\n",
      "        val to_list : t -> elt list\n",
      "        val zero : t\n",
      "        val one : t\n",
      "        val coef_dom : t -> elt\n",
      "        val map : (elt -> elt) -> t -> t\n",
      "        val evaluer : t -> elt -> elt\n",
      "        val normalise : t -> t\n",
      "        val unitaire : t -> t\n",
      "        val decale : t -> int -> t\n",
      "        val monome : elt -> int -> t\n",
      "        val reciproque : t -> t\n",
      "        val coef_constant : t -> elt\n",
      "        val degre : t -> int\n",
      "        val derive : t -> t\n",
      "        val neg : t -> t\n",
      "        val add : t -> t -> t\n",
      "        val sub : t -> t -> t\n",
      "        val mul : t -> t -> t\n",
      "        val pow : t -> int -> t\n",
      "        val powmod : t -> int -> t -> t\n",
      "        val division : t -> t -> t * t\n",
      "        val quotient : t -> t -> t\n",
      "        val modulo : t -> t -> t\n",
      "        val mul_par_scal : t -> elt -> t\n",
      "        val translate : int -> t -> t\n",
      "        val pgcd : t -> t -> t\n",
      "        val euclide : t -> t -> t * t * t\n",
      "        val random : int -> t\n",
      "        val to_string : t -> string\n",
      "        val print : t -> unit\n",
      "      end\n",
      "    module Polynome :\n",
      "      functor (Corps : CorpsType) ->\n",
      "        sig\n",
      "          type t\n",
      "          type elt = Corps.t\n",
      "          val of_list : elt list -> t\n",
      "          val to_list : t -> elt list\n",
      "          val zero : t\n",
      "          val one : t\n",
      "          val coef_dom : t -> elt\n",
      "          val map : (elt -> elt) -> t -> t\n",
      "          val evaluer : t -> elt -> elt\n",
      "          val normalise : t -> t\n",
      "          val unitaire : t -> t\n",
      "          val decale : t -> int -> t\n",
      "          val monome : elt -> int -> t\n",
      "          val reciproque : t -> t\n",
      "          val coef_constant : t -> elt\n",
      "          val degre : t -> int\n",
      "          val derive : t -> t\n",
      "          val neg : t -> t\n",
      "          val add : t -> t -> t\n",
      "          val sub : t -> t -> t\n",
      "          val mul : t -> t -> t\n",
      "          val pow : t -> int -> t\n",
      "          val powmod : t -> int -> t -> t\n",
      "          val division : t -> t -> t * t\n",
      "          val quotient : t -> t -> t\n",
      "          val modulo : t -> t -> t\n",
      "          val mul_par_scal : t -> elt -> t\n",
      "          val translate : int -> t -> t\n",
      "          val pgcd : t -> t -> t\n",
      "          val euclide : t -> t -> t * t * t\n",
      "          val random : int -> t\n",
      "          val to_string : t -> string\n",
      "          val print : t -> unit\n",
      "        end\n",
      "  end\n",
      "module Cantorzass :\n",
      "  sig\n",
      "    module type PolyType = Polynome.PolyType\n",
      "    module type FieldT = PrimeField.FieldT\n",
      "    module type CzType =\n",
      "      sig\n",
      "        type poly\n",
      "        val cantor_zassenhaus : poly -> int -> poly\n",
      "        val factorisation : poly -> int -> poly list\n",
      "      end\n",
      "    module Cantorzass :\n",
      "      functor (Field : FieldT) (Poly : PolyType) ->\n",
      "        sig\n",
      "          type poly = Poly.t\n",
      "          val cantor_zassenhaus : poly -> int -> poly\n",
      "          val factorisation : poly -> int -> poly list\n",
      "        end\n",
      "  end\n",
      "module Cyclo :\n",
      "  sig\n",
      "    module type PolyType = Polynome.PolyType\n",
      "    module type CycloType =\n",
      "      sig\n",
      "        type poly\n",
      "        val decomposer : int -> int list\n",
      "        val cyclo : int -> poly\n",
      "      end\n",
      "    module Cyclo :\n",
      "      functor (Poly : PolyType) ->\n",
      "        sig\n",
      "          type poly = Poly.t\n",
      "          val decomposer : int -> int list\n",
      "          val cyclo : int -> Poly.t\n",
      "        end\n",
      "  end\n"
     ]
    }
   ],
   "source": [
    "#mod_use \"../src/primeField.ml\"\n",
    "#mod_use \"../src/polynome.ml\"\n",
    "#mod_use \"../src/cantorzass.ml\"\n",
    "#mod_use \"../src/cyclo.ml\""
   ]
  },
  {
   "cell_type": "markdown",
   "metadata": {},
   "source": [
    "Now, let's build $ \\mathbf{F}_3  = \\mathbf{Z}/(3\\mathbf{Z})$ :"
   ]
  },
  {
   "cell_type": "code",
   "execution_count": 2,
   "metadata": {
    "scrolled": true
   },
   "outputs": [
    {
     "data": {
      "text/plain": [
       "module T3 : sig val carac : int end\n"
      ]
     },
     "execution_count": 2,
     "metadata": {},
     "output_type": "execute_result"
    },
    {
     "data": {
      "text/plain": [
       "module F3 :\n",
       "  sig\n",
       "    type t = PrimeField.PrimeField(T3).t\n",
       "    val zero : t\n",
       "    val one : t\n",
       "    val carac : int\n",
       "    val dim : int\n",
       "    val cardinal : int\n",
       "    val add : t -> t -> t\n",
       "    val sub : t -> t -> t\n",
       "    val neg : t -> t\n",
       "    val mul : t -> t -> t\n",
       "    val inv : t -> t\n",
       "    val div : t -> t -> t\n",
       "    val pow : t -> int -> t\n",
       "    val to_int : t -> int\n",
       "    val of_int : int -> t\n",
       "    val to_list : t -> int list\n",
       "    val elt_of_list_int : int list -> t\n",
       "    val to_string : t -> string\n",
       "    val alpha : t\n",
       "    val print : t -> unit\n",
       "    val print_table : unit -> unit\n",
       "    val random : unit -> t\n",
       "  end\n"
      ]
     },
     "execution_count": 2,
     "metadata": {},
     "output_type": "execute_result"
    }
   ],
   "source": [
    "module T3 = struct\n",
    "    let carac = 3\n",
    "end\n",
    "\n",
    "module F3 = PrimeField.PrimeField(T3)"
   ]
  },
  {
   "cell_type": "code",
   "execution_count": 3,
   "metadata": {},
   "outputs": [
    {
     "data": {
      "text/plain": [
       "- : string = \"2%3\"\n"
      ]
     },
     "execution_count": 3,
     "metadata": {},
     "output_type": "execute_result"
    }
   ],
   "source": [
    "F3.(to_string alpha)"
   ]
  },
  {
   "cell_type": "markdown",
   "metadata": {},
   "source": [
    "We can now see that the 2 is a (the) primitive element in this field. \n",
    "If we need more flexible representation, we can just use other primitives :"
   ]
  },
  {
   "cell_type": "code",
   "execution_count": 4,
   "metadata": {},
   "outputs": [
    {
     "data": {
      "text/plain": [
       "- : int = 2\n"
      ]
     },
     "execution_count": 4,
     "metadata": {},
     "output_type": "execute_result"
    }
   ],
   "source": [
    "F3.(to_int alpha)"
   ]
  },
  {
   "cell_type": "markdown",
   "metadata": {},
   "source": [
    "Let's extend this field to make $ \\mathbf{F}_9 $. To do this, we're actually going to build $ \\mathbf{F}_3[X]/(f(x))$ where $f(x)$ is an irreducible polynomial of degree 2.\n",
    "First, we need to make polynoms out of these. Then, the module Cantorzass factorizes a cyclotomic polynomial and exten"
   ]
  },
  {
   "cell_type": "code",
   "execution_count": 5,
   "metadata": {
    "scrolled": true
   },
   "outputs": [
    {
     "name": "stdout",
     "output_type": "stream",
     "text": [
      "val pow_int : int -> int -> int = <fun>\n",
      "module type TT = sig val dim : int end\n",
      "module type CFT = PrimeField.FieldT\n",
      "module type ExtT =\n",
      "  sig\n",
      "    type t\n",
      "    val zero : t\n",
      "    val one : t\n",
      "    val carac : int\n",
      "    val cardinal : int\n",
      "    val add : t -> t -> t\n",
      "    val sub : t -> t -> t\n",
      "    val neg : t -> t\n",
      "    val mul : t -> t -> t\n",
      "    val inv : t -> t\n",
      "    val div : t -> t -> t\n",
      "    val pow : t -> int -> t\n",
      "    val to_int : t -> int\n",
      "    val of_int : int -> t\n",
      "    val to_string : t -> string\n",
      "    val alpha : t\n",
      "    val print : t -> unit\n",
      "    val random : unit -> t\n",
      "    type elt\n",
      "    exception ExtraireImpossible\n",
      "    module Poly :\n",
      "      sig\n",
      "        type t\n",
      "        type elt = elt\n",
      "        val of_list : elt list -> t\n",
      "        val to_list : t -> elt list\n",
      "        val zero : t\n",
      "        val one : t\n",
      "        val coef_dom : t -> elt\n",
      "        val map : (elt -> elt) -> t -> t\n",
      "        val evaluer : t -> elt -> elt\n",
      "        val normalise : t -> t\n",
      "        val unitaire : t -> t\n",
      "        val decale : t -> int -> t\n",
      "        val monome : elt -> int -> t\n",
      "        val reciproque : t -> t\n",
      "        val coef_constant : t -> elt\n",
      "        val degre : t -> int\n",
      "        val derive : t -> t\n",
      "        val neg : t -> t\n",
      "        val add : t -> t -> t\n",
      "        val sub : t -> t -> t\n",
      "        val mul : t -> t -> t\n",
      "        val pow : t -> int -> t\n",
      "        val powmod : t -> int -> t -> t\n",
      "        val division : t -> t -> t * t\n",
      "        val quotient : t -> t -> t\n",
      "        val modulo : t -> t -> t\n",
      "        val mul_par_scal : t -> elt -> t\n",
      "        val translate : int -> t -> t\n",
      "        val pgcd : t -> t -> t\n",
      "        val euclide : t -> t -> t * t * t\n",
      "        val random : int -> t\n",
      "        val to_string : t -> string\n",
      "        val print : t -> unit\n",
      "      end\n",
      "    module Cz :\n",
      "      sig\n",
      "        type poly = Poly.t\n",
      "        val cantor_zassenhaus : poly -> int -> poly\n",
      "        val factorisation : poly -> int -> poly list\n",
      "      end\n",
      "    module Cyclo :\n",
      "      sig\n",
      "        type poly = Poly.t\n",
      "        val decomposer : int -> int list\n",
      "        val cyclo : int -> poly\n",
      "      end\n",
      "    module Conv :\n",
      "      sig\n",
      "        val int_of_poly : Poly.t -> int\n",
      "        val list_of_poly : Poly.t -> int list\n",
      "        val poly_of_int : int -> Poly.t\n",
      "        val completer : int list -> int list\n",
      "      end\n",
      "    val dim : int\n",
      "    val poly_irr : Poly.t\n",
      "    val to_list : t -> int list\n",
      "    val elt_of_list_int : int list -> t\n",
      "    val extraire : t -> elt\n",
      "    val incorporer : elt -> t\n",
      "    val print_table : unit -> unit\n",
      "  end\n",
      "module ExtensionNonOpt :\n",
      "  functor (CorpsBase : CFT) (Taille : TT) ->\n",
      "    sig\n",
      "      type t\n",
      "      val zero : t\n",
      "      val one : t\n",
      "      val carac : int\n",
      "      val cardinal : int\n",
      "      val add : t -> t -> t\n",
      "      val sub : t -> t -> t\n",
      "      val neg : t -> t\n",
      "      val mul : t -> t -> t\n",
      "      val inv : t -> t\n",
      "      val div : t -> t -> t\n",
      "      val pow : t -> int -> t\n",
      "      val to_int : t -> int\n",
      "      val of_int : int -> t\n",
      "      val to_string : t -> string\n",
      "      val alpha : t\n",
      "      val print : t -> unit\n",
      "      val random : unit -> t\n",
      "      type elt = CorpsBase.t\n",
      "      exception ExtraireImpossible\n",
      "      module Poly :\n",
      "        sig\n",
      "          type t\n",
      "          type elt = elt\n",
      "          val of_list : elt list -> t\n",
      "          val to_list : t -> elt list\n",
      "          val zero : t\n",
      "          val one : t\n",
      "          val coef_dom : t -> elt\n",
      "          val map : (elt -> elt) -> t -> t\n",
      "          val evaluer : t -> elt -> elt\n",
      "          val normalise : t -> t\n",
      "          val unitaire : t -> t\n",
      "          val decale : t -> int -> t\n",
      "          val monome : elt -> int -> t\n",
      "          val reciproque : t -> t\n",
      "          val coef_constant : t -> elt\n",
      "          val degre : t -> int\n",
      "          val derive : t -> t\n",
      "          val neg : t -> t\n",
      "          val add : t -> t -> t\n",
      "          val sub : t -> t -> t\n",
      "          val mul : t -> t -> t\n",
      "          val pow : t -> int -> t\n",
      "          val powmod : t -> int -> t -> t\n",
      "          val division : t -> t -> t * t\n",
      "          val quotient : t -> t -> t\n",
      "          val modulo : t -> t -> t\n",
      "          val mul_par_scal : t -> elt -> t\n",
      "          val translate : int -> t -> t\n",
      "          val pgcd : t -> t -> t\n",
      "          val euclide : t -> t -> t * t * t\n",
      "          val random : int -> t\n",
      "          val to_string : t -> string\n",
      "          val print : t -> unit\n",
      "        end\n",
      "      module Cz :\n",
      "        sig\n",
      "          type poly = Poly.t\n",
      "          val cantor_zassenhaus : poly -> int -> poly\n",
      "          val factorisation : poly -> int -> poly list\n",
      "        end\n",
      "      module Cyclo :\n",
      "        sig\n",
      "          type poly = Poly.t\n",
      "          val decomposer : int -> int list\n",
      "          val cyclo : int -> poly\n",
      "        end\n",
      "      module Conv :\n",
      "        sig\n",
      "          val int_of_poly : Poly.t -> int\n",
      "          val list_of_poly : Poly.t -> int list\n",
      "          val poly_of_int : int -> Poly.t\n",
      "          val completer : int list -> int list\n",
      "        end\n",
      "      val dim : int\n",
      "      val poly_irr : Poly.t\n",
      "      val to_list : t -> int list\n",
      "      val elt_of_list_int : int list -> t\n",
      "      val extraire : t -> elt\n",
      "      val incorporer : elt -> t\n",
      "      val print_table : unit -> unit\n",
      "    end\n",
      "module type CycloType = Cyclo.CycloType\n",
      "module type ExtOptT =\n",
      "  sig\n",
      "    type t\n",
      "    val zero : t\n",
      "    val one : t\n",
      "    val carac : int\n",
      "    val cardinal : int\n",
      "    val add : t -> t -> t\n",
      "    val sub : t -> t -> t\n",
      "    val neg : t -> t\n",
      "    val mul : t -> t -> t\n",
      "    val inv : t -> t\n",
      "    val div : t -> t -> t\n",
      "    val pow : t -> int -> t\n",
      "    val to_int : t -> int\n",
      "    val of_int : int -> t\n",
      "    val to_string : t -> string\n",
      "    val alpha : t\n",
      "    val print : t -> unit\n",
      "    val random : unit -> t\n",
      "    type elt\n",
      "    exception ExtraireImpossible\n",
      "    module Poly :\n",
      "      sig\n",
      "        type t\n",
      "        type elt = elt\n",
      "        val of_list : elt list -> t\n",
      "        val to_list : t -> elt list\n",
      "        val zero : t\n",
      "        val one : t\n",
      "        val coef_dom : t -> elt\n",
      "        val map : (elt -> elt) -> t -> t\n",
      "        val evaluer : t -> elt -> elt\n",
      "        val normalise : t -> t\n",
      "        val unitaire : t -> t\n",
      "        val decale : t -> int -> t\n",
      "        val monome : elt -> int -> t\n",
      "        val reciproque : t -> t\n",
      "        val coef_constant : t -> elt\n",
      "        val degre : t -> int\n",
      "        val derive : t -> t\n",
      "        val neg : t -> t\n",
      "        val add : t -> t -> t\n",
      "        val sub : t -> t -> t\n",
      "        val mul : t -> t -> t\n",
      "        val pow : t -> int -> t\n",
      "        val powmod : t -> int -> t -> t\n",
      "        val division : t -> t -> t * t\n",
      "        val quotient : t -> t -> t\n",
      "        val modulo : t -> t -> t\n",
      "        val mul_par_scal : t -> elt -> t\n",
      "        val translate : int -> t -> t\n",
      "        val pgcd : t -> t -> t\n",
      "        val euclide : t -> t -> t * t * t\n",
      "        val random : int -> t\n",
      "        val to_string : t -> string\n",
      "        val print : t -> unit\n",
      "      end\n",
      "    module Cz :\n",
      "      sig\n",
      "        type poly = Poly.t\n",
      "        val cantor_zassenhaus : poly -> int -> poly\n",
      "        val factorisation : poly -> int -> poly list\n",
      "      end\n",
      "    val dim : int\n",
      "    val poly_irr : Poly.t\n",
      "    val to_list : t -> int list\n",
      "    val elt_of_list_int : int list -> t\n",
      "    val extraire : t -> elt\n",
      "    val incorporer : elt -> t\n",
      "    val print_table : unit -> unit\n",
      "    module IntExt : sig type t val to_string : t -> string end\n",
      "    module Cyclo :\n",
      "      sig\n",
      "        type poly = Poly.t\n",
      "        val decomposer : int -> int list\n",
      "        val cyclo : int -> poly\n",
      "      end\n",
      "    module Conv :\n",
      "      sig val table_add : IntExt.t array val table_mul : Poly.t array end\n",
      "  end\n"
     ]
    }
   ],
   "source": [
    "#use \"../src/extensions.ml\""
   ]
  },
  {
   "cell_type": "code",
   "execution_count": 6,
   "metadata": {
    "scrolled": true
   },
   "outputs": [
    {
     "name": "stdout",
     "output_type": "stream",
     "text": [
      "module ExtensionOpt :\n",
      "  functor (CorpsBase : CFT) (Taille : TT) ->\n",
      "    sig\n",
      "      type t\n",
      "      val zero : t\n",
      "      val one : t\n",
      "      val carac : int\n",
      "      val cardinal : int\n",
      "      val add : t -> t -> t\n",
      "      val sub : t -> t -> t\n",
      "      val neg : t -> t\n",
      "      val mul : t -> t -> t\n",
      "      val inv : t -> t\n",
      "      val div : t -> t -> t\n",
      "      val pow : t -> int -> t\n",
      "      val to_int : t -> int\n",
      "      val of_int : int -> t\n",
      "      val to_string : t -> string\n",
      "      val alpha : t\n",
      "      val print : t -> unit\n",
      "      val random : unit -> t\n",
      "      type elt = CorpsBase.t\n",
      "      exception ExtraireImpossible\n",
      "      module Poly :\n",
      "        sig\n",
      "          type t\n",
      "          type elt = elt\n",
      "          val of_list : elt list -> t\n",
      "          val to_list : t -> elt list\n",
      "          val zero : t\n",
      "          val one : t\n",
      "          val coef_dom : t -> elt\n",
      "          val map : (elt -> elt) -> t -> t\n",
      "          val evaluer : t -> elt -> elt\n",
      "          val normalise : t -> t\n",
      "          val unitaire : t -> t\n",
      "          val decale : t -> int -> t\n",
      "          val monome : elt -> int -> t\n",
      "          val reciproque : t -> t\n",
      "          val coef_constant : t -> elt\n",
      "          val degre : t -> int\n",
      "          val derive : t -> t\n",
      "          val neg : t -> t\n",
      "          val add : t -> t -> t\n",
      "          val sub : t -> t -> t\n",
      "          val mul : t -> t -> t\n",
      "          val pow : t -> int -> t\n",
      "          val powmod : t -> int -> t -> t\n",
      "          val division : t -> t -> t * t\n",
      "          val quotient : t -> t -> t\n",
      "          val modulo : t -> t -> t\n",
      "          val mul_par_scal : t -> elt -> t\n",
      "          val translate : int -> t -> t\n",
      "          val pgcd : t -> t -> t\n",
      "          val euclide : t -> t -> t * t * t\n",
      "          val random : int -> t\n",
      "          val to_string : t -> string\n",
      "          val print : t -> unit\n",
      "        end\n",
      "      module Cz :\n",
      "        sig\n",
      "          type poly = Poly.t\n",
      "          val cantor_zassenhaus : poly -> int -> poly\n",
      "          val factorisation : poly -> int -> poly list\n",
      "        end\n",
      "      val dim : int\n",
      "      val poly_irr : Poly.t\n",
      "      val to_list : t -> int list\n",
      "      val elt_of_list_int : int list -> t\n",
      "      val extraire : t -> elt\n",
      "      val incorporer : elt -> t\n",
      "      val print_table : unit -> unit\n",
      "      module IntExt : sig type t val to_string : t -> string end\n",
      "      module Cyclo :\n",
      "        sig\n",
      "          type poly = Poly.t\n",
      "          val decomposer : int -> int list\n",
      "          val cyclo : int -> poly\n",
      "        end\n",
      "      module Conv :\n",
      "        sig val table_add : IntExt.t array val table_mul : Poly.t array end\n",
      "    end\n"
     ]
    },
    {
     "data": {
      "text/plain": [
       "module T6 : sig val carac : int val dim : int end\n"
      ]
     },
     "execution_count": 6,
     "metadata": {},
     "output_type": "execute_result"
    },
    {
     "data": {
      "text/plain": [
       "module F9 :\n",
       "  sig\n",
       "    type t = ExtensionOpt(F3)(T6).t\n",
       "    val zero : t\n",
       "    val one : t\n",
       "    val carac : int\n",
       "    val cardinal : int\n",
       "    val add : t -> t -> t\n",
       "    val sub : t -> t -> t\n",
       "    val neg : t -> t\n",
       "    val mul : t -> t -> t\n",
       "    val inv : t -> t\n",
       "    val div : t -> t -> t\n",
       "    val pow : t -> int -> t\n",
       "    val to_int : t -> int\n",
       "    val of_int : int -> t\n",
       "    val to_string : t -> string\n",
       "    val alpha : t\n",
       "    val print : t -> unit\n",
       "    val random : unit -> t\n",
       "    type elt = F3.t\n",
       "    exception ExtraireImpossible\n",
       "    module Poly :\n",
       "      sig\n",
       "        type t = ExtensionOpt(F3)(T6).Poly.t\n",
       "        type elt = elt\n",
       "        val of_list : elt list -> t\n",
       "        val to_list : t -> elt list\n",
       "        val zero : t\n",
       "        val one : t\n",
       "        val coef_dom : t -> elt\n",
       "        val map : (elt -> elt) -> t -> t\n",
       "        val evaluer : t -> elt -> elt\n",
       "        val normalise : t -> t\n",
       "        val unitaire : t -> t\n",
       "        val decale : t -> int -> t\n",
       "        val monome : elt -> int -> t\n",
       "        val reciproque : t -> t\n",
       "        val coef_constant : t -> elt\n",
       "        val degre : t -> int\n",
       "        val derive : t -> t\n",
       "        val neg : t -> t\n",
       "        val add : t -> t -> t\n",
       "        val sub : t -> t -> t\n",
       "        val mul : t -> t -> t\n",
       "        val pow : t -> int -> t\n",
       "        val powmod : t -> int -> t -> t\n",
       "        val division : t -> t -> t * t\n",
       "        val quotient : t -> t -> t\n",
       "        val modulo : t -> t -> t\n",
       "        val mul_par_scal : t -> elt -> t\n",
       "        val translate : int -> t -> t\n",
       "        val pgcd : t -> t -> t\n",
       "        val euclide : t -> t -> t * t * t\n",
       "        val random : int -> t\n",
       "        val to_string : t -> string\n",
       "        val print : t -> unit\n",
       "      end\n",
       "    module Cz :\n",
       "      sig\n",
       "        type poly = Poly.t\n",
       "        val cantor_zassenhaus : poly -> int -> poly\n",
       "        val factorisation : poly -> int -> poly list\n",
       "      end\n",
       "    val dim : int\n",
       "    val poly_irr : Poly.t\n",
       "    val to_list : t -> int list\n",
       "    val elt_of_list_int : int list -> t\n",
       "    val extraire : t -> elt\n",
       "    val incorporer : elt -> t\n",
       "    val print_table : unit -> unit\n",
       "    module IntExt :\n",
       "      sig\n",
       "        type t = ExtensionOpt(F3)(T6).IntExt.t\n",
       "        val to_string : t -> string\n",
       "      end\n",
       "    module Cyclo :\n",
       "      sig\n",
       "        type poly = Poly.t\n",
       "        val decomposer : int -> int list\n",
       "        val cyclo : int -> poly\n",
       "      end\n",
       "    module Conv :\n",
       "      sig val table_add : IntExt.t array val table_mul : Poly.t array end\n",
       "  end\n"
      ]
     },
     "execution_count": 6,
     "metadata": {},
     "output_type": "execute_result"
    }
   ],
   "source": [
    "module T6 = struct\n",
    "    let carac = 3\n",
    "    let dim = 2\n",
    "end\n",
    "\n",
    "module F9 = ExtensionOpt(F3)(T6)"
   ]
  },
  {
   "cell_type": "code",
   "execution_count": 7,
   "metadata": {
    "scrolled": true
   },
   "outputs": [
    {
     "data": {
      "text/plain": [
       "val print_table : (module ExtOptT) -> unit = <fun>\n"
      ]
     },
     "execution_count": 7,
     "metadata": {},
     "output_type": "execute_result"
    }
   ],
   "source": [
    "let print_table field = \n",
    "    let module Field = (val field: ExtOptT) in\n",
    "    let open Field in\n",
    "    let rec enum x = match x with\n",
    "        | a when a = one -> print one ; print_newline() ;\n",
    "        | a -> print a ; print_newline() ; enum (mul a alpha)\n",
    "    in enum alpha\n",
    ";"
   ]
  },
  {
   "cell_type": "code",
   "execution_count": 8,
   "metadata": {},
   "outputs": [
    {
     "data": {
      "text/plain": [
       "- : unit = ()\n"
      ]
     },
     "execution_count": 8,
     "metadata": {},
     "output_type": "execute_result"
    }
   ],
   "source": [
    "print_table (module F9) ; print_newline()"
   ]
  },
  {
   "cell_type": "code",
   "execution_count": 9,
   "metadata": {},
   "outputs": [
    {
     "name": "stdout",
     "output_type": "stream",
     "text": [
      "a^1 : 0%3X^0 + 1%3X^1\n",
      "a^2 : 1%3X^0 + 2%3X^1\n",
      "a^3 : 2%3X^0 + 2%3X^1\n",
      "a^4 : 2%3X^0\n",
      "a^5 : 0%3X^0 + 2%3X^1\n",
      "a^6 : 2%3X^0 + 1%3X^1\n",
      "a^7 : 1%3X^0 + 1%3X^1\n",
      "a^0 : 1%3X^0\n",
      "\n"
     ]
    },
    {
     "data": {
      "text/plain": [
       "- : string = \"0%3X^0 + 1%3X^1\"\n"
      ]
     },
     "execution_count": 9,
     "metadata": {},
     "output_type": "execute_result"
    }
   ],
   "source": [
    "F9.(Poly.decale Poly.one 1 |> Poly.to_string)"
   ]
  },
  {
   "cell_type": "markdown",
   "metadata": {},
   "source": [
    "# Misc"
   ]
  },
  {
   "cell_type": "code",
   "execution_count": 10,
   "metadata": {
    "scrolled": true
   },
   "outputs": [
    {
     "data": {
      "text/plain": [
       "module F9' :\n",
       "  sig\n",
       "    type t = ExtensionNonOpt(F3)(T6).t\n",
       "    val zero : t\n",
       "    val one : t\n",
       "    val carac : int\n",
       "    val cardinal : int\n",
       "    val add : t -> t -> t\n",
       "    val sub : t -> t -> t\n",
       "    val neg : t -> t\n",
       "    val mul : t -> t -> t\n",
       "    val inv : t -> t\n",
       "    val div : t -> t -> t\n",
       "    val pow : t -> int -> t\n",
       "    val to_int : t -> int\n",
       "    val of_int : int -> t\n",
       "    val to_string : t -> string\n",
       "    val alpha : t\n",
       "    val print : t -> unit\n",
       "    val random : unit -> t\n",
       "    type elt = F3.t\n",
       "    exception ExtraireImpossible\n",
       "    module Poly :\n",
       "      sig\n",
       "        type t = ExtensionNonOpt(F3)(T6).Poly.t\n",
       "        type elt = elt\n",
       "        val of_list : elt list -> t\n",
       "        val to_list : t -> elt list\n",
       "        val zero : t\n",
       "        val one : t\n",
       "        val coef_dom : t -> elt\n",
       "        val map : (elt -> elt) -> t -> t\n",
       "        val evaluer : t -> elt -> elt\n",
       "        val normalise : t -> t\n",
       "        val unitaire : t -> t\n",
       "        val decale : t -> int -> t\n",
       "        val monome : elt -> int -> t\n",
       "        val reciproque : t -> t\n",
       "        val coef_constant : t -> elt\n",
       "        val degre : t -> int\n",
       "        val derive : t -> t\n",
       "        val neg : t -> t\n",
       "        val add : t -> t -> t\n",
       "        val sub : t -> t -> t\n",
       "        val mul : t -> t -> t\n",
       "        val pow : t -> int -> t\n",
       "        val powmod : t -> int -> t -> t\n",
       "        val division : t -> t -> t * t\n",
       "        val quotient : t -> t -> t\n",
       "        val modulo : t -> t -> t\n",
       "        val mul_par_scal : t -> elt -> t\n",
       "        val translate : int -> t -> t\n",
       "        val pgcd : t -> t -> t\n",
       "        val euclide : t -> t -> t * t * t\n",
       "        val random : int -> t\n",
       "        val to_string : t -> string\n",
       "        val print : t -> unit\n",
       "      end\n",
       "    module Cz :\n",
       "      sig\n",
       "        type poly = Poly.t\n",
       "        val cantor_zassenhaus : poly -> int -> poly\n",
       "        val factorisation : poly -> int -> poly list\n",
       "      end\n",
       "    module Cyclo :\n",
       "      sig\n",
       "        type poly = Poly.t\n",
       "        val decomposer : int -> int list\n",
       "        val cyclo : int -> poly\n",
       "      end\n",
       "    module Conv :\n",
       "      sig\n",
       "        val int_of_poly : Poly.t -> int\n",
       "        val list_of_poly : Poly.t -> int list\n",
       "        val poly_of_int : int -> Poly.t\n",
       "        val completer : int list -> int list\n",
       "      end\n",
       "    val dim : int\n",
       "    val poly_irr : Poly.t\n",
       "    val to_list : t -> int list\n",
       "    val elt_of_list_int : int list -> t\n",
       "    val extraire : t -> elt\n",
       "    val incorporer : elt -> t\n",
       "    val print_table : unit -> unit\n",
       "  end\n"
      ]
     },
     "execution_count": 10,
     "metadata": {},
     "output_type": "execute_result"
    }
   ],
   "source": [
    "module F9' = ExtensionNonOpt(F3)(T6)"
   ]
  },
  {
   "cell_type": "code",
   "execution_count": 11,
   "metadata": {},
   "outputs": [
    {
     "data": {
      "text/plain": [
       "- : string = \"0%3X^0 + 1%3X^1\"\n"
      ]
     },
     "execution_count": 11,
     "metadata": {},
     "output_type": "execute_result"
    }
   ],
   "source": [
    "F9'.(to_string alpha)"
   ]
  },
  {
   "cell_type": "code",
   "execution_count": 12,
   "metadata": {},
   "outputs": [
    {
     "name": "stdout",
     "output_type": "stream",
     "text": [
      "a^1 : 0%3X^0 + 1%3X^1\n"
     ]
    },
    {
     "data": {
      "text/plain": [
       "- : unit = ()\n"
      ]
     },
     "execution_count": 12,
     "metadata": {},
     "output_type": "execute_result"
    }
   ],
   "source": [
    "F9.(print alpha) ; print_newline ()"
   ]
  },
  {
   "cell_type": "code",
   "execution_count": 13,
   "metadata": {},
   "outputs": [
    {
     "name": "stdout",
     "output_type": "stream",
     "text": [
      "module IntExt :\n",
      "  sig type t = ExtensionOpt(F3)(T6).IntExt.t val to_string : t -> string end\n"
     ]
    }
   ],
   "source": [
    "#show_module F9.IntExt"
   ]
  },
  {
   "cell_type": "code",
   "execution_count": 14,
   "metadata": {},
   "outputs": [
    {
     "data": {
      "text/plain": [
       "val print_tmul : (module ExtOptT) -> unit = <fun>\n"
      ]
     },
     "execution_count": 14,
     "metadata": {},
     "output_type": "execute_result"
    },
    {
     "data": {
      "text/plain": [
       "val print_tadd : (module ExtOptT) -> unit = <fun>\n"
      ]
     },
     "execution_count": 14,
     "metadata": {},
     "output_type": "execute_result"
    }
   ],
   "source": [
    "let print_tmul m = \n",
    "    let module Field = (val m : ExtOptT) in\n",
    "    Array.iter (fun poly -> Field.Poly.print poly ; print_newline()) Field.Conv.table_mul\n",
    "    \n",
    "let print_tadd m = \n",
    "    let module Field = (val m : ExtOptT) in \n",
    "    Array.iter (fun n -> Field.IntExt.to_string n |> print_string ; print_newline() ) Field.Conv.table_add"
   ]
  },
  {
   "cell_type": "code",
   "execution_count": 15,
   "metadata": {},
   "outputs": [
    {
     "name": "stdout",
     "output_type": "stream",
     "text": [
      "1%3X^0\n",
      "0%3X^0 + 1%3X^1\n",
      "1%3X^0 + 2%3X^1\n",
      "2%3X^0 + 2%3X^1\n",
      "2%3X^0\n",
      "0%3X^0 + 2%3X^1\n",
      "2%3X^0 + 1%3X^1\n",
      "1%3X^0 + 1%3X^1\n",
      "Zero\n"
     ]
    },
    {
     "data": {
      "text/plain": [
       "- : unit = ()\n"
      ]
     },
     "execution_count": 15,
     "metadata": {},
     "output_type": "execute_result"
    }
   ],
   "source": [
    "print_tmul (module F9)"
   ]
  },
  {
   "cell_type": "code",
   "execution_count": 16,
   "metadata": {},
   "outputs": [
    {
     "name": "stdout",
     "output_type": "stream",
     "text": [
      "inf\n",
      "0\n",
      "4\n",
      "1\n",
      "7\n",
      "6\n",
      "5\n",
      "2\n",
      "3\n"
     ]
    },
    {
     "data": {
      "text/plain": [
       "- : unit = ()\n"
      ]
     },
     "execution_count": 16,
     "metadata": {},
     "output_type": "execute_result"
    }
   ],
   "source": [
    "print_tadd (module F9)"
   ]
  },
  {
   "cell_type": "code",
   "execution_count": 17,
   "metadata": {},
   "outputs": [
    {
     "name": "stdout",
     "output_type": "stream",
     "text": [
      "0%3X^0 + 1%3X^1\n"
     ]
    },
    {
     "data": {
      "text/plain": [
       "- : unit = ()\n"
      ]
     },
     "execution_count": 17,
     "metadata": {},
     "output_type": "execute_result"
    }
   ],
   "source": [
    "F9'.(print alpha) ; print_newline()"
   ]
  },
  {
   "cell_type": "code",
   "execution_count": 18,
   "metadata": {
    "scrolled": true
   },
   "outputs": [
    {
     "data": {
      "text/plain": [
       "module F2 : PrimeField.FieldT\n"
      ]
     },
     "execution_count": 18,
     "metadata": {},
     "output_type": "execute_result"
    },
    {
     "data": {
      "text/plain": [
       "module F4 :\n",
       "  sig\n",
       "    type t\n",
       "    val zero : t\n",
       "    val one : t\n",
       "    val carac : int\n",
       "    val cardinal : int\n",
       "    val add : t -> t -> t\n",
       "    val sub : t -> t -> t\n",
       "    val neg : t -> t\n",
       "    val mul : t -> t -> t\n",
       "    val inv : t -> t\n",
       "    val div : t -> t -> t\n",
       "    val pow : t -> int -> t\n",
       "    val to_int : t -> int\n",
       "    val of_int : int -> t\n",
       "    val to_string : t -> string\n",
       "    val alpha : t\n",
       "    val print : t -> unit\n",
       "    val random : unit -> t\n",
       "    type elt = F2.t\n",
       "    exception ExtraireImpossible\n",
       "    module Poly :\n",
       "      sig\n",
       "        type t\n",
       "        type elt = elt\n",
       "        val of_list : elt list -> t\n",
       "        val to_list : t -> elt list\n",
       "        val zero : t\n",
       "        val one : t\n",
       "        val coef_dom : t -> elt\n",
       "        val map : (elt -> elt) -> t -> t\n",
       "        val evaluer : t -> elt -> elt\n",
       "        val normalise : t -> t\n",
       "        val unitaire : t -> t\n",
       "        val decale : t -> int -> t\n",
       "        val monome : elt -> int -> t\n",
       "        val reciproque : t -> t\n",
       "        val coef_constant : t -> elt\n",
       "        val degre : t -> int\n",
       "        val derive : t -> t\n",
       "        val neg : t -> t\n",
       "        val add : t -> t -> t\n",
       "        val sub : t -> t -> t\n",
       "        val mul : t -> t -> t\n",
       "        val pow : t -> int -> t\n",
       "        val powmod : t -> int -> t -> t\n",
       "        val division : t -> t -> t * t\n",
       "        val quotient : t -> t -> t\n",
       "        val modulo : t -> t -> t\n",
       "        val mul_par_scal : t -> elt -> t\n",
       "        val translate : int -> t -> t\n",
       "        val pgcd : t -> t -> t\n",
       "        val euclide : t -> t -> t * t * t\n",
       "        val random : int -> t\n",
       "        val to_string : t -> string\n",
       "        val print : t -> unit\n",
       "      end\n",
       "    module Cz :\n",
       "      sig\n",
       "        type poly = Poly.t\n",
       "        val cantor_zassenhaus : poly -> int -> poly\n",
       "        val factorisation : poly -> int -> poly list\n",
       "      end\n",
       "    val dim : int\n",
       "    val poly_irr : Poly.t\n",
       "    val to_list : t -> int list\n",
       "    val elt_of_list_int : int list -> t\n",
       "    val extraire : t -> elt\n",
       "    val incorporer : elt -> t\n",
       "    val print_table : unit -> unit\n",
       "    module IntExt : sig type t val to_string : t -> string end\n",
       "    module Cyclo :\n",
       "      sig\n",
       "        type poly = Poly.t\n",
       "        val decomposer : int -> int list\n",
       "        val cyclo : int -> poly\n",
       "      end\n",
       "    module Conv :\n",
       "      sig val table_add : IntExt.t array val table_mul : Poly.t array end\n",
       "  end\n"
      ]
     },
     "execution_count": 18,
     "metadata": {},
     "output_type": "execute_result"
    },
    {
     "data": {
      "text/plain": [
       "module F8 :\n",
       "  sig\n",
       "    type t\n",
       "    val zero : t\n",
       "    val one : t\n",
       "    val carac : int\n",
       "    val cardinal : int\n",
       "    val add : t -> t -> t\n",
       "    val sub : t -> t -> t\n",
       "    val neg : t -> t\n",
       "    val mul : t -> t -> t\n",
       "    val inv : t -> t\n",
       "    val div : t -> t -> t\n",
       "    val pow : t -> int -> t\n",
       "    val to_int : t -> int\n",
       "    val of_int : int -> t\n",
       "    val to_string : t -> string\n",
       "    val alpha : t\n",
       "    val print : t -> unit\n",
       "    val random : unit -> t\n",
       "    type elt = F2.t\n",
       "    exception ExtraireImpossible\n",
       "    module Poly :\n",
       "      sig\n",
       "        type t\n",
       "        type elt = elt\n",
       "        val of_list : elt list -> t\n",
       "        val to_list : t -> elt list\n",
       "        val zero : t\n",
       "        val one : t\n",
       "        val coef_dom : t -> elt\n",
       "        val map : (elt -> elt) -> t -> t\n",
       "        val evaluer : t -> elt -> elt\n",
       "        val normalise : t -> t\n",
       "        val unitaire : t -> t\n",
       "        val decale : t -> int -> t\n",
       "        val monome : elt -> int -> t\n",
       "        val reciproque : t -> t\n",
       "        val coef_constant : t -> elt\n",
       "        val degre : t -> int\n",
       "        val derive : t -> t\n",
       "        val neg : t -> t\n",
       "        val add : t -> t -> t\n",
       "        val sub : t -> t -> t\n",
       "        val mul : t -> t -> t\n",
       "        val pow : t -> int -> t\n",
       "        val powmod : t -> int -> t -> t\n",
       "        val division : t -> t -> t * t\n",
       "        val quotient : t -> t -> t\n",
       "        val modulo : t -> t -> t\n",
       "        val mul_par_scal : t -> elt -> t\n",
       "        val translate : int -> t -> t\n",
       "        val pgcd : t -> t -> t\n",
       "        val euclide : t -> t -> t * t * t\n",
       "        val random : int -> t\n",
       "        val to_string : t -> string\n",
       "        val print : t -> unit\n",
       "      end\n",
       "    module Cz :\n",
       "      sig\n",
       "        type poly = Poly.t\n",
       "        val cantor_zassenhaus : poly -> int -> poly\n",
       "        val factorisation : poly -> int -> poly list\n",
       "      end\n",
       "    val dim : int\n",
       "    val poly_irr : Poly.t\n",
       "    val to_list : t -> int list\n",
       "    val elt_of_list_int : int list -> t\n",
       "    val extraire : t -> elt\n",
       "    val incorporer : elt -> t\n",
       "    val print_table : unit -> unit\n",
       "    module IntExt : sig type t val to_string : t -> string end\n",
       "    module Cyclo :\n",
       "      sig\n",
       "        type poly = Poly.t\n",
       "        val decomposer : int -> int list\n",
       "        val cyclo : int -> poly\n",
       "      end\n",
       "    module Conv :\n",
       "      sig val table_add : IntExt.t array val table_mul : Poly.t array end\n",
       "  end\n"
      ]
     },
     "execution_count": 18,
     "metadata": {},
     "output_type": "execute_result"
    },
    {
     "data": {
      "text/plain": [
       "module F16 :\n",
       "  sig\n",
       "    type t\n",
       "    val zero : t\n",
       "    val one : t\n",
       "    val carac : int\n",
       "    val cardinal : int\n",
       "    val add : t -> t -> t\n",
       "    val sub : t -> t -> t\n",
       "    val neg : t -> t\n",
       "    val mul : t -> t -> t\n",
       "    val inv : t -> t\n",
       "    val div : t -> t -> t\n",
       "    val pow : t -> int -> t\n",
       "    val to_int : t -> int\n",
       "    val of_int : int -> t\n",
       "    val to_string : t -> string\n",
       "    val alpha : t\n",
       "    val print : t -> unit\n",
       "    val random : unit -> t\n",
       "    type elt = F2.t\n",
       "    exception ExtraireImpossible\n",
       "    module Poly :\n",
       "      sig\n",
       "        type t\n",
       "        type elt = elt\n",
       "        val of_list : elt list -> t\n",
       "        val to_list : t -> elt list\n",
       "        val zero : t\n",
       "        val one : t\n",
       "        val coef_dom : t -> elt\n",
       "        val map : (elt -> elt) -> t -> t\n",
       "        val evaluer : t -> elt -> elt\n",
       "        val normalise : t -> t\n",
       "        val unitaire : t -> t\n",
       "        val decale : t -> int -> t\n",
       "        val monome : elt -> int -> t\n",
       "        val reciproque : t -> t\n",
       "        val coef_constant : t -> elt\n",
       "        val degre : t -> int\n",
       "        val derive : t -> t\n",
       "        val neg : t -> t\n",
       "        val add : t -> t -> t\n",
       "        val sub : t -> t -> t\n",
       "        val mul : t -> t -> t\n",
       "        val pow : t -> int -> t\n",
       "        val powmod : t -> int -> t -> t\n",
       "        val division : t -> t -> t * t\n",
       "        val quotient : t -> t -> t\n",
       "        val modulo : t -> t -> t\n",
       "        val mul_par_scal : t -> elt -> t\n",
       "        val translate : int -> t -> t\n",
       "        val pgcd : t -> t -> t\n",
       "        val euclide : t -> t -> t * t * t\n",
       "        val random : int -> t\n",
       "        val to_string : t -> string\n",
       "        val print : t -> unit\n",
       "      end\n",
       "    module Cz :\n",
       "      sig\n",
       "        type poly = Poly.t\n",
       "        val cantor_zassenhaus : poly -> int -> poly\n",
       "        val factorisation : poly -> int -> poly list\n",
       "      end\n",
       "    val dim : int\n",
       "    val poly_irr : Poly.t\n",
       "    val to_list : t -> int list\n",
       "    val elt_of_list_int : int list -> t\n",
       "    val extraire : t -> elt\n",
       "    val incorporer : elt -> t\n",
       "    val print_table : unit -> unit\n",
       "    module IntExt : sig type t val to_string : t -> string end\n",
       "    module Cyclo :\n",
       "      sig\n",
       "        type poly = Poly.t\n",
       "        val decomposer : int -> int list\n",
       "        val cyclo : int -> poly\n",
       "      end\n",
       "    module Conv :\n",
       "      sig val table_add : IntExt.t array val table_mul : Poly.t array end\n",
       "  end\n"
      ]
     },
     "execution_count": 18,
     "metadata": {},
     "output_type": "execute_result"
    },
    {
     "data": {
      "text/plain": [
       "module F16' :\n",
       "  sig\n",
       "    type t\n",
       "    val zero : t\n",
       "    val one : t\n",
       "    val carac : int\n",
       "    val cardinal : int\n",
       "    val add : t -> t -> t\n",
       "    val sub : t -> t -> t\n",
       "    val neg : t -> t\n",
       "    val mul : t -> t -> t\n",
       "    val inv : t -> t\n",
       "    val div : t -> t -> t\n",
       "    val pow : t -> int -> t\n",
       "    val to_int : t -> int\n",
       "    val of_int : int -> t\n",
       "    val to_string : t -> string\n",
       "    val alpha : t\n",
       "    val print : t -> unit\n",
       "    val random : unit -> t\n",
       "    type elt = F4.t\n",
       "    exception ExtraireImpossible\n",
       "    module Poly :\n",
       "      sig\n",
       "        type t\n",
       "        type elt = elt\n",
       "        val of_list : elt list -> t\n",
       "        val to_list : t -> elt list\n",
       "        val zero : t\n",
       "        val one : t\n",
       "        val coef_dom : t -> elt\n",
       "        val map : (elt -> elt) -> t -> t\n",
       "        val evaluer : t -> elt -> elt\n",
       "        val normalise : t -> t\n",
       "        val unitaire : t -> t\n",
       "        val decale : t -> int -> t\n",
       "        val monome : elt -> int -> t\n",
       "        val reciproque : t -> t\n",
       "        val coef_constant : t -> elt\n",
       "        val degre : t -> int\n",
       "        val derive : t -> t\n",
       "        val neg : t -> t\n",
       "        val add : t -> t -> t\n",
       "        val sub : t -> t -> t\n",
       "        val mul : t -> t -> t\n",
       "        val pow : t -> int -> t\n",
       "        val powmod : t -> int -> t -> t\n",
       "        val division : t -> t -> t * t\n",
       "        val quotient : t -> t -> t\n",
       "        val modulo : t -> t -> t\n",
       "        val mul_par_scal : t -> elt -> t\n",
       "        val translate : int -> t -> t\n",
       "        val pgcd : t -> t -> t\n",
       "        val euclide : t -> t -> t * t * t\n",
       "        val random : int -> t\n",
       "        val to_string : t -> string\n",
       "        val print : t -> unit\n",
       "      end\n",
       "    module Cz :\n",
       "      sig\n",
       "        type poly = Poly.t\n",
       "        val cantor_zassenhaus : poly -> int -> poly\n",
       "        val factorisation : poly -> int -> poly list\n",
       "      end\n",
       "    val dim : int\n",
       "    val poly_irr : Poly.t\n",
       "    val to_list : t -> int list\n",
       "    val elt_of_list_int : int list -> t\n",
       "    val extraire : t -> elt\n",
       "    val incorporer : elt -> t\n",
       "    val print_table : unit -> unit\n",
       "    module IntExt : sig type t val to_string : t -> string end\n",
       "    module Cyclo :\n",
       "      sig\n",
       "        type poly = Poly.t\n",
       "        val decomposer : int -> int list\n",
       "        val cyclo : int -> poly\n",
       "      end\n",
       "    module Conv :\n",
       "      sig val table_add : IntExt.t array val table_mul : Poly.t array end\n",
       "  end\n"
      ]
     },
     "execution_count": 18,
     "metadata": {},
     "output_type": "execute_result"
    }
   ],
   "source": [
    "module F2 = PrimeField.PrimeField (struct let carac = 2 end)\n",
    "module F4 = ExtensionOpt (F2) (struct let dim = 2 end)\n",
    "module F8 = ExtensionOpt (F2) (struct let dim = 3 end)\n",
    "module F16 = ExtensionOpt (F2) (struct let dim = 4 end)\n",
    "module F16' = ExtensionOpt (F4) (struct let dim = 2 end)"
   ]
  },
  {
   "cell_type": "code",
   "execution_count": 19,
   "metadata": {},
   "outputs": [
    {
     "name": "stdout",
     "output_type": "stream",
     "text": [
      "a^1 : 0 : ZeroX^0 + a^0 : 1%2X^0X^1\n",
      "a^2 : a^1 : 0%2X^0 + 1%2X^1X^0 + a^1 : 0%2X^0 + 1%2X^1X^1\n",
      "a^3 : a^2 : 1%2X^0 + 1%2X^1X^0 + a^0 : 1%2X^0X^1\n",
      "a^4 : a^1 : 0%2X^0 + 1%2X^1X^0 + a^0 : 1%2X^0X^1\n",
      "a^5 : a^1 : 0%2X^0 + 1%2X^1X^0\n",
      "a^6 : 0 : ZeroX^0 + a^1 : 0%2X^0 + 1%2X^1X^1\n",
      "a^7 : a^2 : 1%2X^0 + 1%2X^1X^0 + a^2 : 1%2X^0 + 1%2X^1X^1\n",
      "a^8 : a^0 : 1%2X^0X^0 + a^1 : 0%2X^0 + 1%2X^1X^1\n",
      "a^9 : a^2 : 1%2X^0 + 1%2X^1X^0 + a^1 : 0%2X^0 + 1%2X^1X^1\n",
      "a^10 : a^2 : 1%2X^0 + 1%2X^1X^0\n",
      "a^11 : 0 : ZeroX^0 + a^2 : 1%2X^0 + 1%2X^1X^1\n",
      "a^12 : a^0 : 1%2X^0X^0 + a^0 : 1%2X^0X^1\n",
      "a^13 : a^1 : 0%2X^0 + 1%2X^1X^0 + a^2 : 1%2X^0 + 1%2X^1X^1\n",
      "a^14 : a^0 : 1%2X^0X^0 + a^2 : 1%2X^0 + 1%2X^1X^1\n",
      "a^0 : a^0 : 1%2X^0X^0\n"
     ]
    },
    {
     "data": {
      "text/plain": [
       "- : unit = ()\n"
      ]
     },
     "execution_count": 19,
     "metadata": {},
     "output_type": "execute_result"
    }
   ],
   "source": [
    "print_table (module F16')"
   ]
  },
  {
   "cell_type": "code",
   "execution_count": 20,
   "metadata": {},
   "outputs": [
    {
     "name": "stdout",
     "output_type": "stream",
     "text": [
      "a^0 : 1%2X^0X^0\n",
      "0 : ZeroX^0 + a^0 : 1%2X^0X^1\n",
      "a^1 : 0%2X^0 + 1%2X^1X^0 + a^1 : 0%2X^0 + 1%2X^1X^1\n",
      "a^2 : 1%2X^0 + 1%2X^1X^0 + a^0 : 1%2X^0X^1\n",
      "a^1 : 0%2X^0 + 1%2X^1X^0 + a^0 : 1%2X^0X^1\n",
      "a^1 : 0%2X^0 + 1%2X^1X^0\n",
      "0 : ZeroX^0 + a^1 : 0%2X^0 + 1%2X^1X^1\n",
      "a^2 : 1%2X^0 + 1%2X^1X^0 + a^2 : 1%2X^0 + 1%2X^1X^1\n",
      "a^0 : 1%2X^0X^0 + a^1 : 0%2X^0 + 1%2X^1X^1\n",
      "a^2 : 1%2X^0 + 1%2X^1X^0 + a^1 : 0%2X^0 + 1%2X^1X^1\n",
      "a^2 : 1%2X^0 + 1%2X^1X^0\n",
      "0 : ZeroX^0 + a^2 : 1%2X^0 + 1%2X^1X^1\n",
      "a^0 : 1%2X^0X^0 + a^0 : 1%2X^0X^1\n",
      "a^1 : 0%2X^0 + 1%2X^1X^0 + a^2 : 1%2X^0 + 1%2X^1X^1\n",
      "a^0 : 1%2X^0X^0 + a^2 : 1%2X^0 + 1%2X^1X^1\n",
      "Zero\n"
     ]
    },
    {
     "data": {
      "text/plain": [
       "- : unit = ()\n"
      ]
     },
     "execution_count": 20,
     "metadata": {},
     "output_type": "execute_result"
    }
   ],
   "source": [
    "print_tmul (module F16')"
   ]
  },
  {
   "cell_type": "code",
   "execution_count": 21,
   "metadata": {},
   "outputs": [
    {
     "name": "stdout",
     "output_type": "stream",
     "text": [
      "inf\n",
      "0\n",
      "1\n",
      "12\n",
      "2\n",
      "9\n",
      "13\n",
      "7\n",
      "3\n",
      "4\n",
      "10\n",
      "5\n",
      "14\n",
      "11\n",
      "8\n",
      "6\n"
     ]
    },
    {
     "data": {
      "text/plain": [
       "- : unit = ()\n"
      ]
     },
     "execution_count": 21,
     "metadata": {},
     "output_type": "execute_result"
    }
   ],
   "source": [
    "print_tadd (module F16)"
   ]
  },
  {
   "cell_type": "code",
   "execution_count": 22,
   "metadata": {},
   "outputs": [
    {
     "name": "stdout",
     "output_type": "stream",
     "text": [
      "1%2X^0\n",
      "0%2X^0 + 1%2X^1\n",
      "1%2X^0 + 1%2X^1\n",
      "Zero\n"
     ]
    },
    {
     "data": {
      "text/plain": [
       "- : unit = ()\n"
      ]
     },
     "execution_count": 22,
     "metadata": {},
     "output_type": "execute_result"
    }
   ],
   "source": [
    "print_tmul (module F4)"
   ]
  },
  {
   "cell_type": "code",
   "execution_count": 23,
   "metadata": {},
   "outputs": [
    {
     "data": {
      "text/plain": [
       "- : unit = ()\n"
      ]
     },
     "execution_count": 23,
     "metadata": {},
     "output_type": "execute_result"
    }
   ],
   "source": [
    "print_tadd (module F4)"
   ]
  },
  {
   "cell_type": "markdown",
   "metadata": {},
   "source": [
    "# Polynomials over ints"
   ]
  },
  {
   "cell_type": "code",
   "execution_count": 24,
   "metadata": {
    "scrolled": true
   },
   "outputs": [
    {
     "name": "stdout",
     "output_type": "stream",
     "text": [
      "inf\n",
      "0\n",
      "1\n",
      "2\n"
     ]
    },
    {
     "data": {
      "text/plain": [
       "module MyInt :\n",
       "  sig\n",
       "    type t = int\n",
       "    val zero : int\n",
       "    val one : int\n",
       "    val minus_one : int\n",
       "    external neg : int -> int = \"%negint\"\n",
       "    external add : int -> int -> int = \"%addint\"\n",
       "    external sub : int -> int -> int = \"%subint\"\n",
       "    external mul : int -> int -> int = \"%mulint\"\n",
       "    external div : int -> int -> int = \"%divint\"\n",
       "    external rem : int -> int -> int = \"%modint\"\n",
       "    external succ : int -> int = \"%succint\"\n",
       "    external pred : int -> int = \"%predint\"\n",
       "    val abs : int -> int\n",
       "    val max_int : int\n",
       "    val min_int : int\n",
       "    external logand : int -> int -> int = \"%andint\"\n",
       "    external logor : int -> int -> int = \"%orint\"\n",
       "    external logxor : int -> int -> int = \"%xorint\"\n",
       "    val lognot : int -> int\n",
       "    external shift_left : int -> int -> int = \"%lslint\"\n",
       "    external shift_right : int -> int -> int = \"%asrint\"\n",
       "    external shift_right_logical : int -> int -> int = \"%lsrint\"\n",
       "    val equal : int -> int -> bool\n",
       "    val compare : int -> int -> int\n",
       "    external to_float : int -> float = \"%floatofint\"\n",
       "    external of_float : float -> int = \"%intoffloat\"\n",
       "    val to_string : int -> string\n",
       "    val print : int -> unit\n",
       "    val to_int : 'a -> 'a\n",
       "    val of_int : 'a -> 'a\n",
       "    val elt_of_list_int : int list -> int\n",
       "    val to_list : 'a -> 'a list\n",
       "    val cardinal : int\n",
       "    val carac : int\n",
       "    val dim : int\n",
       "    val pow : int -> int -> int\n",
       "    val random : unit -> int\n",
       "    val inv : int -> int\n",
       "    val opp : int -> int\n",
       "    val print_table : unit -> unit\n",
       "    val alpha : int\n",
       "  end\n"
      ]
     },
     "execution_count": 24,
     "metadata": {},
     "output_type": "execute_result"
    }
   ],
   "source": [
    "module MyInt = struct\n",
    "    include Int\n",
    "    let print = print_int\n",
    "    let to_int n = n\n",
    "    let of_int n = n\n",
    "    let elt_of_list_int l =\n",
    "        match l with\n",
    "        | [] -> 0\n",
    "        | [ a ] -> a\n",
    "        | _ -> failwith \"element of list int : Frob\"\n",
    "\n",
    "    let to_list a = [ a ]\n",
    "    let cardinal = 1000\n",
    "    let carac = 1000\n",
    "    let dim = 1\n",
    "\n",
    "    let rec pow a = function\n",
    "      | 0 -> 1\n",
    "      | 1 -> a\n",
    "      | k -> a * pow a (k - 1)\n",
    "    let random = fun () -> Random.int 100\n",
    "    let inv a = 1 / a\n",
    "    let opp a = -a\n",
    "    let print_table = fun () -> ()\n",
    "    let alpha = 1\n",
    "end"
   ]
  },
  {
   "cell_type": "code",
   "execution_count": 25,
   "metadata": {
    "scrolled": true
   },
   "outputs": [
    {
     "data": {
      "text/plain": [
       "module IntPoly :\n",
       "  sig\n",
       "    type t = Polynome.Polynome(MyInt).t\n",
       "    type elt = MyInt.t\n",
       "    val of_list : elt list -> t\n",
       "    val to_list : t -> elt list\n",
       "    val zero : t\n",
       "    val one : t\n",
       "    val coef_dom : t -> elt\n",
       "    val map : (elt -> elt) -> t -> t\n",
       "    val evaluer : t -> elt -> elt\n",
       "    val normalise : t -> t\n",
       "    val unitaire : t -> t\n",
       "    val decale : t -> int -> t\n",
       "    val monome : elt -> int -> t\n",
       "    val reciproque : t -> t\n",
       "    val coef_constant : t -> elt\n",
       "    val degre : t -> int\n",
       "    val derive : t -> t\n",
       "    val neg : t -> t\n",
       "    val add : t -> t -> t\n",
       "    val sub : t -> t -> t\n",
       "    val mul : t -> t -> t\n",
       "    val pow : t -> int -> t\n",
       "    val powmod : t -> int -> t -> t\n",
       "    val division : t -> t -> t * t\n",
       "    val quotient : t -> t -> t\n",
       "    val modulo : t -> t -> t\n",
       "    val mul_par_scal : t -> elt -> t\n",
       "    val translate : int -> t -> t\n",
       "    val pgcd : t -> t -> t\n",
       "    val euclide : t -> t -> t * t * t\n",
       "    val random : int -> t\n",
       "    val to_string : t -> string\n",
       "    val print : t -> unit\n",
       "  end\n"
      ]
     },
     "execution_count": 25,
     "metadata": {},
     "output_type": "execute_result"
    }
   ],
   "source": [
    "module IntPoly = Polynome.Polynome (MyInt)"
   ]
  },
  {
   "cell_type": "code",
   "execution_count": 26,
   "metadata": {},
   "outputs": [
    {
     "data": {
      "text/plain": [
       "- : string = \"24X^0 + 58X^1 + 88X^2\"\n"
      ]
     },
     "execution_count": 26,
     "metadata": {},
     "output_type": "execute_result"
    }
   ],
   "source": [
    "IntPoly.(random 3 |> to_string)"
   ]
  },
  {
   "cell_type": "code",
   "execution_count": 27,
   "metadata": {},
   "outputs": [
    {
     "data": {
      "text/plain": [
       "val p : F9.Poly.t = <abstr>\n"
      ]
     },
     "execution_count": 27,
     "metadata": {},
     "output_type": "execute_result"
    },
    {
     "data": {
      "text/plain": [
       "- : string = \"0%3X^0 + 2%3X^1 + 2%3X^2\"\n"
      ]
     },
     "execution_count": 27,
     "metadata": {},
     "output_type": "execute_result"
    }
   ],
   "source": [
    "let p = F9.Poly.random 3 ;;\n",
    "F9.Poly.to_string p"
   ]
  },
  {
   "cell_type": "code",
   "execution_count": 28,
   "metadata": {
    "scrolled": true
   },
   "outputs": [
    {
     "data": {
      "text/plain": [
       "module type Poly'T =\n",
       "  sig\n",
       "    type 'a t\n",
       "    val zero : 'a t\n",
       "    val map : ('a -> 'b) -> 'a t -> 'b t\n",
       "    val to_list : 'a t -> 'a list\n",
       "  end\n"
      ]
     },
     "execution_count": 28,
     "metadata": {},
     "output_type": "execute_result"
    },
    {
     "data": {
      "text/plain": [
       "module Poly' : functor (Corps : PrimeField.FieldT) -> Poly'T\n"
      ]
     },
     "execution_count": 28,
     "metadata": {},
     "output_type": "execute_result"
    }
   ],
   "source": [
    "module type Poly'T = sig\n",
    "    type 'a t\n",
    "    val zero : 'a t\n",
    "    val map : ('a -> 'b) -> 'a t -> 'b t\n",
    "    val to_list : 'a t -> 'a list\n",
    "end\n",
    "\n",
    "module Poly' (Corps: PrimeField.FieldT) : Poly'T = struct\n",
    "    type 'a t = 'a list\n",
    "    let zero = []\n",
    "    let map = List.map\n",
    "    let to_list p = p\n",
    "end"
   ]
  },
  {
   "cell_type": "code",
   "execution_count": 29,
   "metadata": {},
   "outputs": [
    {
     "data": {
      "text/plain": [
       "module P :\n",
       "  sig\n",
       "    type 'a t = 'a Poly'(F3).t\n",
       "    val zero : 'a t\n",
       "    val map : ('a -> 'b) -> 'a t -> 'b t\n",
       "    val to_list : 'a t -> 'a list\n",
       "  end\n"
      ]
     },
     "execution_count": 29,
     "metadata": {},
     "output_type": "execute_result"
    },
    {
     "data": {
      "text/plain": [
       "module P' :\n",
       "  sig\n",
       "    type 'a t = 'a Poly'(F3).t\n",
       "    val zero : 'a t\n",
       "    val map : ('a -> 'b) -> 'a t -> 'b t\n",
       "    val to_list : 'a t -> 'a list\n",
       "  end\n"
      ]
     },
     "execution_count": 29,
     "metadata": {},
     "output_type": "execute_result"
    }
   ],
   "source": [
    "module P = Poly' (F3) ;;\n",
    "module P' = Poly' (F3)"
   ]
  },
  {
   "cell_type": "code",
   "execution_count": 30,
   "metadata": {},
   "outputs": [
    {
     "data": {
      "text/plain": [
       "- : 'a P.t = <abstr>\n"
      ]
     },
     "execution_count": 30,
     "metadata": {},
     "output_type": "execute_result"
    }
   ],
   "source": [
    "P.zero"
   ]
  },
  {
   "cell_type": "code",
   "execution_count": 31,
   "metadata": {},
   "outputs": [
    {
     "data": {
      "text/plain": [
       "- : 'a list = []\n"
      ]
     },
     "execution_count": 31,
     "metadata": {},
     "output_type": "execute_result"
    }
   ],
   "source": [
    "P.(zero |> to_list)"
   ]
  },
  {
   "cell_type": "code",
   "execution_count": 32,
   "metadata": {},
   "outputs": [
    {
     "data": {
      "text/plain": [
       "- : int list = [1; 2; 3]\n"
      ]
     },
     "execution_count": 32,
     "metadata": {},
     "output_type": "execute_result"
    }
   ],
   "source": [
    "List.init (3) succ"
   ]
  },
  {
   "cell_type": "code",
   "execution_count": 33,
   "metadata": {},
   "outputs": [
    {
     "name": "stdout",
     "output_type": "stream",
     "text": [
      "a^1: 1%2\n"
     ]
    },
    {
     "data": {
      "text/plain": [
       "- : unit = ()\n"
      ]
     },
     "execution_count": 33,
     "metadata": {},
     "output_type": "execute_result"
    }
   ],
   "source": [
    "F2.print_table () ;"
   ]
  },
  {
   "cell_type": "code",
   "execution_count": 34,
   "metadata": {},
   "outputs": [
    {
     "data": {
      "text/plain": [
       "module F7 : PrimeField.FieldT\n"
      ]
     },
     "execution_count": 34,
     "metadata": {},
     "output_type": "execute_result"
    }
   ],
   "source": [
    "module F7 = PrimeField.PrimeField (struct let carac = 7 end)"
   ]
  },
  {
   "cell_type": "code",
   "execution_count": 35,
   "metadata": {},
   "outputs": [
    {
     "name": "stdout",
     "output_type": "stream",
     "text": [
      "a^1: 3%7\n",
      "a^2: 2%7\n",
      "a^3: 6%7\n",
      "a^4: 4%7\n",
      "a^5: 5%7\n",
      "a^6: 1%7\n"
     ]
    },
    {
     "data": {
      "text/plain": [
       "- : unit = ()\n"
      ]
     },
     "execution_count": 35,
     "metadata": {},
     "output_type": "execute_result"
    }
   ],
   "source": [
    "F7.print_table ()"
   ]
  }
 ],
 "metadata": {
  "kernelspec": {
   "display_name": "OCaml 4.09.0",
   "language": "OCaml",
   "name": "ocaml-jupyter"
  },
  "language_info": {
   "codemirror_mode": "text/x-ocaml",
   "file_extension": ".ml",
   "mimetype": "text/x-ocaml",
   "name": "OCaml",
   "nbconverter_exporter": null,
   "pygments_lexer": "OCaml",
   "version": "4.09.0"
  }
 },
 "nbformat": 4,
 "nbformat_minor": 2
}
