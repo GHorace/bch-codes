{
 "cells": [
  {
   "cell_type": "markdown",
   "metadata": {},
   "source": [
    "This notebook makes use of https://github.com/akabe/ocaml-jupyter with ocaml 4.02.3\n",
    "\n",
    "# Prime fields\n",
    "Let's use our module to build Frobenius fields, aka prime fields $ \\mathbf{F}_p $.\n",
    "\n",
    "First, we need to load the functor that makes a field based on a characteristic `carac`, which must be a prime."
   ]
  },
  {
   "cell_type": "code",
   "execution_count": 9,
   "metadata": {
    "scrolled": true
   },
   "outputs": [
    {
     "name": "stdout",
     "output_type": "stream",
     "text": [
      "module Frobenius :\n",
      "  sig\n",
      "    module type FieldT =\n",
      "      sig\n",
      "        type t\n",
      "        val zero : t\n",
      "        val un : t\n",
      "        val alpha : t\n",
      "        val carac : int\n",
      "        val dim : int\n",
      "        val cardinal : int\n",
      "        val to_int : t -> int\n",
      "        val of_int : int -> t\n",
      "        val to_list : t -> int list\n",
      "        val elt_of_list_int : int list -> t\n",
      "        val print : t -> unit\n",
      "        val print_table : unit -> unit\n",
      "        val add : t -> t -> t\n",
      "        val sub : t -> t -> t\n",
      "        val opp : t -> t\n",
      "        val mult : t -> t -> t\n",
      "        val inv : t -> t\n",
      "        val div : t -> t -> t\n",
      "        val pow : t -> int -> t\n",
      "        val random : unit -> t\n",
      "      end\n",
      "    module Frobenius : functor (Taille : sig val carac : int end) -> FieldT\n",
      "  end\n"
     ]
    }
   ],
   "source": [
    "#mod_use \"../src/frobenius.ml\""
   ]
  },
  {
   "cell_type": "markdown",
   "metadata": {},
   "source": [
    "Now, let's build $ \\mathbf{F}_3  = \\mathbf{Z}/(3\\mathbf{Z})$ :"
   ]
  },
  {
   "cell_type": "code",
   "execution_count": 10,
   "metadata": {
    "scrolled": true
   },
   "outputs": [
    {
     "data": {
      "text/plain": [
       "module T3 : sig val carac : int end\n"
      ]
     },
     "execution_count": 10,
     "metadata": {},
     "output_type": "execute_result"
    },
    {
     "data": {
      "text/plain": [
       "module F3 :\n",
       "  sig\n",
       "    type t = Frobenius.Frobenius(T3).t\n",
       "    val zero : t\n",
       "    val un : t\n",
       "    val alpha : t\n",
       "    val carac : int\n",
       "    val dim : int\n",
       "    val cardinal : int\n",
       "    val to_int : t -> int\n",
       "    val of_int : int -> t\n",
       "    val to_list : t -> int list\n",
       "    val elt_of_list_int : int list -> t\n",
       "    val print : t -> unit\n",
       "    val print_table : unit -> unit\n",
       "    val add : t -> t -> t\n",
       "    val sub : t -> t -> t\n",
       "    val opp : t -> t\n",
       "    val mult : t -> t -> t\n",
       "    val inv : t -> t\n",
       "    val div : t -> t -> t\n",
       "    val pow : t -> int -> t\n",
       "    val random : unit -> t\n",
       "  end\n"
      ]
     },
     "execution_count": 10,
     "metadata": {},
     "output_type": "execute_result"
    }
   ],
   "source": [
    "module T3 = struct\n",
    "    let carac = 3\n",
    "end\n",
    "\n",
    "module F3 = Frobenius.Frobenius(T3)"
   ]
  },
  {
   "cell_type": "code",
   "execution_count": 11,
   "metadata": {},
   "outputs": [
    {
     "data": {
      "text/plain": [
       "- : unit = ()\n"
      ]
     },
     "execution_count": 11,
     "metadata": {},
     "output_type": "execute_result"
    }
   ],
   "source": [
    "F3.(print alpha)"
   ]
  },
  {
   "cell_type": "markdown",
   "metadata": {},
   "source": [
    "Unfortunately, we cannot print in here directly. We'll just need to flush standard output, which can be done easily  done `print_newline()` or `print_endline()` cf https://caml.inria.fr/pub/docs/manual-ocaml/libref/Pervasives.html :"
   ]
  },
  {
   "cell_type": "code",
   "execution_count": 12,
   "metadata": {},
   "outputs": [
    {
     "name": "stdout",
     "output_type": "stream",
     "text": [
      "2%3\n"
     ]
    },
    {
     "data": {
      "text/plain": [
       "- : unit = ()\n"
      ]
     },
     "execution_count": 12,
     "metadata": {},
     "output_type": "execute_result"
    }
   ],
   "source": [
    "print_newline ()"
   ]
  },
  {
   "cell_type": "markdown",
   "metadata": {},
   "source": [
    "We can now see that the 2 is a (the) primitive element in this field. \n",
    "If we need more flexible representation, we can just use other primitives :"
   ]
  },
  {
   "cell_type": "code",
   "execution_count": 13,
   "metadata": {},
   "outputs": [
    {
     "name": "stdout",
     "output_type": "stream",
     "text": [
      "2\n"
     ]
    },
    {
     "data": {
      "text/plain": [
       "- : unit = ()\n"
      ]
     },
     "execution_count": 13,
     "metadata": {},
     "output_type": "execute_result"
    }
   ],
   "source": [
    "F3.(to_int alpha) |> print_int ; print_newline ()"
   ]
  },
  {
   "cell_type": "markdown",
   "metadata": {},
   "source": [
    "Let's extend this field to make $ \\mathbf{F}_9 $. To do this, we're actually going to build $ \\mathbf{F}_3[X]/(f(x))$ where $f(x)$ is an irreducible polynomial of degree 2.\n",
    "First, we need to make polynoms out of these. Then, the module Cantorzass factorizes a cyclotomic polynomial and exten"
   ]
  },
  {
   "cell_type": "code",
   "execution_count": 14,
   "metadata": {
    "scrolled": true
   },
   "outputs": [
    {
     "name": "stdout",
     "output_type": "stream",
     "text": [
      "module Polynome :\n",
      "  sig\n",
      "    module type CorpsType = Frobenius.FieldT\n",
      "    module type PolyType =\n",
      "      sig\n",
      "        type t\n",
      "        type elt\n",
      "        val carac : int\n",
      "        val cardinal : int\n",
      "        val of_list : elt list -> t\n",
      "        val to_list : t -> elt list\n",
      "        val nul : t\n",
      "        val un : t\n",
      "        val coef_dom : t -> elt\n",
      "        val map : (elt -> elt) -> t -> t\n",
      "        val evaluer : t -> elt -> elt\n",
      "        val normalise : t -> t\n",
      "        val unitaire : t -> t\n",
      "        val decale : t -> int -> t\n",
      "        val monome : elt -> int -> t\n",
      "        val reciproque : t -> t\n",
      "        val coef_constant : t -> elt\n",
      "        val degre : t -> int\n",
      "        val derive : t -> t\n",
      "        val opp : t -> t\n",
      "        val add : t -> t -> t\n",
      "        val sub : t -> t -> t\n",
      "        val mult : t -> t -> t\n",
      "        val pow : t -> int -> t\n",
      "        val powmod : t -> int -> t -> t\n",
      "        val division : t -> t -> t * t\n",
      "        val quotient : t -> t -> t\n",
      "        val modulo : t -> t -> t\n",
      "        val mult_par_scal : t -> elt -> t\n",
      "        val translate : int -> t -> t\n",
      "        val pgcd : t -> t -> t\n",
      "        val euclide : t -> t -> t * t * t\n",
      "        val random : int -> t\n",
      "        val print : t -> unit\n",
      "      end\n",
      "    module Polynome :\n",
      "      functor (Corps : CorpsType) ->\n",
      "        sig\n",
      "          type t\n",
      "          type elt = Corps.t\n",
      "          val carac : int\n",
      "          val cardinal : int\n",
      "          val of_list : elt list -> t\n",
      "          val to_list : t -> elt list\n",
      "          val nul : t\n",
      "          val un : t\n",
      "          val coef_dom : t -> elt\n",
      "          val map : (elt -> elt) -> t -> t\n",
      "          val evaluer : t -> elt -> elt\n",
      "          val normalise : t -> t\n",
      "          val unitaire : t -> t\n",
      "          val decale : t -> int -> t\n",
      "          val monome : elt -> int -> t\n",
      "          val reciproque : t -> t\n",
      "          val coef_constant : t -> elt\n",
      "          val degre : t -> int\n",
      "          val derive : t -> t\n",
      "          val opp : t -> t\n",
      "          val add : t -> t -> t\n",
      "          val sub : t -> t -> t\n",
      "          val mult : t -> t -> t\n",
      "          val pow : t -> int -> t\n",
      "          val powmod : t -> int -> t -> t\n",
      "          val division : t -> t -> t * t\n",
      "          val quotient : t -> t -> t\n",
      "          val modulo : t -> t -> t\n",
      "          val mult_par_scal : t -> elt -> t\n",
      "          val translate : int -> t -> t\n",
      "          val pgcd : t -> t -> t\n",
      "          val euclide : t -> t -> t * t * t\n",
      "          val random : int -> t\n",
      "          val print : t -> unit\n",
      "        end\n",
      "  end\n",
      "module Cantorzass :\n",
      "  sig\n",
      "    module type PolyType = Polynome.PolyType\n",
      "    module type CzType =\n",
      "      sig\n",
      "        type poly\n",
      "        val cantor_zassenhaus : poly -> int -> poly\n",
      "        val factorisation : poly -> int -> poly list\n",
      "      end\n",
      "    module Cantorzass :\n",
      "      functor (Poly : PolyType) ->\n",
      "        sig\n",
      "          type poly = Poly.t\n",
      "          val cantor_zassenhaus : poly -> int -> poly\n",
      "          val factorisation : poly -> int -> poly list\n",
      "        end\n",
      "  end\n",
      "module Cyclo :\n",
      "  sig\n",
      "    module type PolyType = Polynome.PolyType\n",
      "    module type CycloType =\n",
      "      sig\n",
      "        type poly\n",
      "        val decomposer : int -> int list\n",
      "        val cyclo : int -> poly\n",
      "      end\n",
      "    module Cyclo :\n",
      "      functor (Poly : PolyType) ->\n",
      "        sig\n",
      "          type poly = Poly.t\n",
      "          val decomposer : int -> int list\n",
      "          val cyclo : int -> Poly.t\n",
      "        end\n",
      "  end\n",
      "val pow_int : int -> int -> int = <fun>\n",
      "module type TT = sig val dim : int end\n",
      "module type CFT = Frobenius.FieldT\n",
      "module type ExtT =\n",
      "  sig\n",
      "    type t\n",
      "    type elt\n",
      "    exception ExtraireImpossible\n",
      "    module Poly :\n",
      "      sig\n",
      "        type t\n",
      "        type elt = elt\n",
      "        val carac : int\n",
      "        val cardinal : int\n",
      "        val of_list : elt list -> t\n",
      "        val to_list : t -> elt list\n",
      "        val nul : t\n",
      "        val un : t\n",
      "        val coef_dom : t -> elt\n",
      "        val map : (elt -> elt) -> t -> t\n",
      "        val evaluer : t -> elt -> elt\n",
      "        val normalise : t -> t\n",
      "        val unitaire : t -> t\n",
      "        val decale : t -> int -> t\n",
      "        val monome : elt -> int -> t\n",
      "        val reciproque : t -> t\n",
      "        val coef_constant : t -> elt\n",
      "        val degre : t -> int\n",
      "        val derive : t -> t\n",
      "        val opp : t -> t\n",
      "        val add : t -> t -> t\n",
      "        val sub : t -> t -> t\n",
      "        val mult : t -> t -> t\n",
      "        val pow : t -> int -> t\n",
      "        val powmod : t -> int -> t -> t\n",
      "        val division : t -> t -> t * t\n",
      "        val quotient : t -> t -> t\n",
      "        val modulo : t -> t -> t\n",
      "        val mult_par_scal : t -> elt -> t\n",
      "        val translate : int -> t -> t\n",
      "        val pgcd : t -> t -> t\n",
      "        val euclide : t -> t -> t * t * t\n",
      "        val random : int -> t\n",
      "        val print : t -> unit\n",
      "      end\n",
      "    module Cz :\n",
      "      sig\n",
      "        type poly = Poly.t\n",
      "        val cantor_zassenhaus : poly -> int -> poly\n",
      "        val factorisation : poly -> int -> poly list\n",
      "      end\n",
      "    module Cyclo :\n",
      "      sig\n",
      "        type poly = Poly.t\n",
      "        val decomposer : int -> int list\n",
      "        val cyclo : int -> poly\n",
      "      end\n",
      "    module Conv :\n",
      "      sig\n",
      "        val int_of_poly : Poly.t -> int\n",
      "        val list_of_poly : Poly.t -> int list\n",
      "        val poly_of_int : int -> Poly.t\n",
      "        val completer : int list -> int list\n",
      "      end\n",
      "    val carac : int\n",
      "    val dim : int\n",
      "    val cardinal : int\n",
      "    val poly_irr : Poly.t\n",
      "    val zero : t\n",
      "    val of_int : int -> t\n",
      "    val to_int : t -> int\n",
      "    val to_list : t -> int list\n",
      "    val elt_of_list_int : int list -> t\n",
      "    val extraire : t -> elt\n",
      "    val incorporer : elt -> t\n",
      "    val un : t\n",
      "    val alpha : t\n",
      "    val add : t -> t -> t\n",
      "    val sub : t -> t -> t\n",
      "    val opp : t -> t\n",
      "    val mult : t -> t -> t\n",
      "    val inv : t -> t\n",
      "    val div : t -> t -> t\n",
      "    val pow : t -> int -> t\n",
      "    val print : t -> unit\n",
      "    val print_table : unit -> unit\n",
      "    val random : unit -> t\n",
      "  end\n",
      "module ExtensionNonOpt :\n",
      "  functor (CorpsBase : CFT) (Taille : TT) ->\n",
      "    sig\n",
      "      type t\n",
      "      type elt = CorpsBase.t\n",
      "      exception ExtraireImpossible\n",
      "      module Poly :\n",
      "        sig\n",
      "          type t\n",
      "          type elt = elt\n",
      "          val carac : int\n",
      "          val cardinal : int\n",
      "          val of_list : elt list -> t\n",
      "          val to_list : t -> elt list\n",
      "          val nul : t\n",
      "          val un : t\n",
      "          val coef_dom : t -> elt\n",
      "          val map : (elt -> elt) -> t -> t\n",
      "          val evaluer : t -> elt -> elt\n",
      "          val normalise : t -> t\n",
      "          val unitaire : t -> t\n",
      "          val decale : t -> int -> t\n",
      "          val monome : elt -> int -> t\n",
      "          val reciproque : t -> t\n",
      "          val coef_constant : t -> elt\n",
      "          val degre : t -> int\n",
      "          val derive : t -> t\n",
      "          val opp : t -> t\n",
      "          val add : t -> t -> t\n",
      "          val sub : t -> t -> t\n",
      "          val mult : t -> t -> t\n",
      "          val pow : t -> int -> t\n",
      "          val powmod : t -> int -> t -> t\n",
      "          val division : t -> t -> t * t\n",
      "          val quotient : t -> t -> t\n",
      "          val modulo : t -> t -> t\n",
      "          val mult_par_scal : t -> elt -> t\n",
      "          val translate : int -> t -> t\n",
      "          val pgcd : t -> t -> t\n",
      "          val euclide : t -> t -> t * t * t\n",
      "          val random : int -> t\n",
      "          val print : t -> unit\n",
      "        end\n",
      "      module Cz :\n",
      "        sig\n",
      "          type poly = Poly.t\n",
      "          val cantor_zassenhaus : poly -> int -> poly\n",
      "          val factorisation : poly -> int -> poly list\n",
      "        end\n",
      "      module Cyclo :\n",
      "        sig\n",
      "          type poly = Poly.t\n",
      "          val decomposer : int -> int list\n",
      "          val cyclo : int -> poly\n",
      "        end\n",
      "      module Conv :\n",
      "        sig\n",
      "          val int_of_poly : Poly.t -> int\n",
      "          val list_of_poly : Poly.t -> int list\n",
      "          val poly_of_int : int -> Poly.t\n",
      "          val completer : int list -> int list\n",
      "        end\n",
      "      val carac : int\n",
      "      val dim : int\n",
      "      val cardinal : int\n",
      "      val poly_irr : Poly.t\n",
      "      val zero : t\n",
      "      val of_int : int -> t\n",
      "      val to_int : t -> int\n",
      "      val to_list : t -> int list\n",
      "      val elt_of_list_int : int list -> t\n",
      "      val extraire : t -> elt\n",
      "      val incorporer : elt -> t\n",
      "      val un : t\n",
      "      val alpha : t\n",
      "      val add : t -> t -> t\n",
      "      val sub : t -> t -> t\n",
      "      val opp : t -> t\n",
      "      val mult : t -> t -> t\n",
      "      val inv : t -> t\n",
      "      val div : t -> t -> t\n",
      "      val pow : t -> int -> t\n",
      "      val print : t -> unit\n",
      "      val print_table : unit -> unit\n"
     ]
    },
    {
     "name": "stdout",
     "output_type": "stream",
     "text": [
      "      val random : unit -> t\n",
      "    end\n",
      "module ExtensionOpt :\n",
      "  functor (CorpsBase : CFT) (Taille : TT) ->\n",
      "    sig\n",
      "      type t\n",
      "      type elt = CorpsBase.t\n",
      "      exception ExtraireImpossible\n",
      "      module Poly :\n",
      "        sig\n",
      "          type t\n",
      "          type elt = elt\n",
      "          val carac : int\n",
      "          val cardinal : int\n",
      "          val of_list : elt list -> t\n",
      "          val to_list : t -> elt list\n",
      "          val nul : t\n",
      "          val un : t\n",
      "          val coef_dom : t -> elt\n",
      "          val map : (elt -> elt) -> t -> t\n",
      "          val evaluer : t -> elt -> elt\n",
      "          val normalise : t -> t\n",
      "          val unitaire : t -> t\n",
      "          val decale : t -> int -> t\n",
      "          val monome : elt -> int -> t\n",
      "          val reciproque : t -> t\n",
      "          val coef_constant : t -> elt\n",
      "          val degre : t -> int\n",
      "          val derive : t -> t\n",
      "          val opp : t -> t\n",
      "          val add : t -> t -> t\n",
      "          val sub : t -> t -> t\n",
      "          val mult : t -> t -> t\n",
      "          val pow : t -> int -> t\n",
      "          val powmod : t -> int -> t -> t\n",
      "          val division : t -> t -> t * t\n",
      "          val quotient : t -> t -> t\n",
      "          val modulo : t -> t -> t\n",
      "          val mult_par_scal : t -> elt -> t\n",
      "          val translate : int -> t -> t\n",
      "          val pgcd : t -> t -> t\n",
      "          val euclide : t -> t -> t * t * t\n",
      "          val random : int -> t\n",
      "          val print : t -> unit\n",
      "        end\n",
      "      module Cz :\n",
      "        sig\n",
      "          type poly = Poly.t\n",
      "          val cantor_zassenhaus : poly -> int -> poly\n",
      "          val factorisation : poly -> int -> poly list\n",
      "        end\n",
      "      module Cyclo :\n",
      "        sig\n",
      "          type poly = Poly.t\n",
      "          val decomposer : int -> int list\n",
      "          val cyclo : int -> poly\n",
      "        end\n",
      "      module Conv :\n",
      "        sig\n",
      "          val int_of_poly : Poly.t -> int\n",
      "          val list_of_poly : Poly.t -> int list\n",
      "          val poly_of_int : int -> Poly.t\n",
      "          val completer : int list -> int list\n",
      "        end\n",
      "      val carac : int\n",
      "      val dim : int\n",
      "      val cardinal : int\n",
      "      val poly_irr : Poly.t\n",
      "      val zero : t\n",
      "      val of_int : int -> t\n",
      "      val to_int : t -> int\n",
      "      val to_list : t -> int list\n",
      "      val elt_of_list_int : int list -> t\n",
      "      val extraire : t -> elt\n",
      "      val incorporer : elt -> t\n",
      "      val un : t\n",
      "      val alpha : t\n",
      "      val add : t -> t -> t\n",
      "      val sub : t -> t -> t\n",
      "      val opp : t -> t\n",
      "      val mult : t -> t -> t\n",
      "      val inv : t -> t\n",
      "      val div : t -> t -> t\n",
      "      val pow : t -> int -> t\n",
      "      val print : t -> unit\n",
      "      val print_table : unit -> unit\n",
      "      val random : unit -> t\n",
      "    end\n"
     ]
    }
   ],
   "source": [
    "#mod_use \"../src/polynome.ml\"\n",
    "#mod_use \"../src/cantorzass.ml\"\n",
    "#mod_use \"../src/cyclo.ml\"\n",
    "#use \"../src/extensions.ml\""
   ]
  },
  {
   "cell_type": "code",
   "execution_count": 15,
   "metadata": {
    "scrolled": true
   },
   "outputs": [
    {
     "data": {
      "text/plain": [
       "module T6 : sig val carac : int val dim : int end\n"
      ]
     },
     "execution_count": 15,
     "metadata": {},
     "output_type": "execute_result"
    },
    {
     "data": {
      "text/plain": [
       "module F9 :\n",
       "  sig\n",
       "    type t = ExtensionOpt(F3)(T6).t\n",
       "    type elt = F3.t\n",
       "    exception ExtraireImpossible\n",
       "    module Poly :\n",
       "      sig\n",
       "        type t = ExtensionOpt(F3)(T6).Poly.t\n",
       "        type elt = elt\n",
       "        val carac : int\n",
       "        val cardinal : int\n",
       "        val of_list : elt list -> t\n",
       "        val to_list : t -> elt list\n",
       "        val nul : t\n",
       "        val un : t\n",
       "        val coef_dom : t -> elt\n",
       "        val map : (elt -> elt) -> t -> t\n",
       "        val evaluer : t -> elt -> elt\n",
       "        val normalise : t -> t\n",
       "        val unitaire : t -> t\n",
       "        val decale : t -> int -> t\n",
       "        val monome : elt -> int -> t\n",
       "        val reciproque : t -> t\n",
       "        val coef_constant : t -> elt\n",
       "        val degre : t -> int\n",
       "        val derive : t -> t\n",
       "        val opp : t -> t\n",
       "        val add : t -> t -> t\n",
       "        val sub : t -> t -> t\n",
       "        val mult : t -> t -> t\n",
       "        val pow : t -> int -> t\n",
       "        val powmod : t -> int -> t -> t\n",
       "        val division : t -> t -> t * t\n",
       "        val quotient : t -> t -> t\n",
       "        val modulo : t -> t -> t\n",
       "        val mult_par_scal : t -> elt -> t\n",
       "        val translate : int -> t -> t\n",
       "        val pgcd : t -> t -> t\n",
       "        val euclide : t -> t -> t * t * t\n",
       "        val random : int -> t\n",
       "        val print : t -> unit\n",
       "      end\n",
       "    module Cz :\n",
       "      sig\n",
       "        type poly = Poly.t\n",
       "        val cantor_zassenhaus : poly -> int -> poly\n",
       "        val factorisation : poly -> int -> poly list\n",
       "      end\n",
       "    module Cyclo :\n",
       "      sig\n",
       "        type poly = Poly.t\n",
       "        val decomposer : int -> int list\n",
       "        val cyclo : int -> poly\n",
       "      end\n",
       "    module Conv :\n",
       "      sig\n",
       "        val int_of_poly : Poly.t -> int\n",
       "        val list_of_poly : Poly.t -> int list\n",
       "        val poly_of_int : int -> Poly.t\n",
       "        val completer : int list -> int list\n",
       "      end\n",
       "    val carac : int\n",
       "    val dim : int\n",
       "    val cardinal : int\n",
       "    val poly_irr : Poly.t\n",
       "    val zero : t\n",
       "    val of_int : int -> t\n",
       "    val to_int : t -> int\n",
       "    val to_list : t -> int list\n",
       "    val elt_of_list_int : int list -> t\n",
       "    val extraire : t -> elt\n",
       "    val incorporer : elt -> t\n",
       "    val un : t\n",
       "    val alpha : t\n",
       "    val add : t -> t -> t\n",
       "    val sub : t -> t -> t\n",
       "    val opp : t -> t\n",
       "    val mult : t -> t -> t\n",
       "    val inv : t -> t\n",
       "    val div : t -> t -> t\n",
       "    val pow : t -> int -> t\n",
       "    val print : t -> unit\n",
       "    val print_table : unit -> unit\n",
       "    val random : unit -> t\n",
       "  end\n"
      ]
     },
     "execution_count": 15,
     "metadata": {},
     "output_type": "execute_result"
    }
   ],
   "source": [
    "module T6 = struct\n",
    "    let carac = 3\n",
    "    let dim = 2\n",
    "end\n",
    "\n",
    "module F9 = ExtensionOpt(F3)(T6)"
   ]
  },
  {
   "cell_type": "code",
   "execution_count": 16,
   "metadata": {
    "scrolled": true
   },
   "outputs": [
    {
     "name": "stdout",
     "output_type": "stream",
     "text": [
      "a^1\n",
      "a^2\n",
      "a^3\n",
      "a^4\n",
      "a^5\n",
      "a^6\n",
      "a^7\n",
      "a^0\n",
      "\n",
      "1%3X^0\n",
      "\n",
      "0%3X^0 + 1%3X^1\n",
      "\n",
      "1%3X^0 + 2%3X^1\n",
      "\n",
      "2%3X^0 + 2%3X^1\n",
      "\n",
      "2%3X^0\n",
      "\n",
      "0%3X^0 + 2%3X^1\n",
      "\n",
      "2%3X^0 + 1%3X^1\n",
      "\n",
      "1%3X^0 + 1%3X^1\n",
      "\n"
     ]
    },
    {
     "data": {
      "text/plain": [
       "- : unit = ()\n"
      ]
     },
     "execution_count": 16,
     "metadata": {},
     "output_type": "execute_result"
    }
   ],
   "source": [
    "let _ = \n",
    "    let open F9 in\n",
    "    let rec enum x = match x with\n",
    "        | a when a=un -> print un ; print_newline() ;\n",
    "        | a -> print a ; print_newline() ; enum (mult a alpha)\n",
    "    in enum alpha\n",
    ";\n",
    "print_newline() ; F9.print_table ()"
   ]
  },
  {
   "cell_type": "code",
   "execution_count": 19,
   "metadata": {},
   "outputs": [
    {
     "ename": "error",
     "evalue": "compile_error",
     "output_type": "error",
     "traceback": [
      "File \"[19]\", line 1, characters 16-18:\n1 | F9.(Poly.decale un 1)\n                    ^^\nError: This expression has type F9.t = ExtensionOpt(F3)(T6).t\n       but an expression was expected of type\n         F9.Poly.t = ExtensionOpt(F3)(T6).Poly.t\n"
     ]
    }
   ],
   "source": [
    "F9.(Poly.decale un 1)"
   ]
  },
  {
   "cell_type": "code",
   "execution_count": 20,
   "metadata": {
    "scrolled": true
   },
   "outputs": [
    {
     "data": {
      "text/plain": [
       "module F9' :\n",
       "  sig\n",
       "    type t = ExtensionNonOpt(F3)(T6).t\n",
       "    type elt = F3.t\n",
       "    exception ExtraireImpossible\n",
       "    module Poly :\n",
       "      sig\n",
       "        type t = ExtensionNonOpt(F3)(T6).Poly.t\n",
       "        type elt = elt\n",
       "        val carac : int\n",
       "        val cardinal : int\n",
       "        val of_list : elt list -> t\n",
       "        val to_list : t -> elt list\n",
       "        val nul : t\n",
       "        val un : t\n",
       "        val coef_dom : t -> elt\n",
       "        val map : (elt -> elt) -> t -> t\n",
       "        val evaluer : t -> elt -> elt\n",
       "        val normalise : t -> t\n",
       "        val unitaire : t -> t\n",
       "        val decale : t -> int -> t\n",
       "        val monome : elt -> int -> t\n",
       "        val reciproque : t -> t\n",
       "        val coef_constant : t -> elt\n",
       "        val degre : t -> int\n",
       "        val derive : t -> t\n",
       "        val opp : t -> t\n",
       "        val add : t -> t -> t\n",
       "        val sub : t -> t -> t\n",
       "        val mult : t -> t -> t\n",
       "        val pow : t -> int -> t\n",
       "        val powmod : t -> int -> t -> t\n",
       "        val division : t -> t -> t * t\n",
       "        val quotient : t -> t -> t\n",
       "        val modulo : t -> t -> t\n",
       "        val mult_par_scal : t -> elt -> t\n",
       "        val translate : int -> t -> t\n",
       "        val pgcd : t -> t -> t\n",
       "        val euclide : t -> t -> t * t * t\n",
       "        val random : int -> t\n",
       "        val print : t -> unit\n",
       "      end\n",
       "    module Cz :\n",
       "      sig\n",
       "        type poly = Poly.t\n",
       "        val cantor_zassenhaus : poly -> int -> poly\n",
       "        val factorisation : poly -> int -> poly list\n",
       "      end\n",
       "    module Cyclo :\n",
       "      sig\n",
       "        type poly = Poly.t\n",
       "        val decomposer : int -> int list\n",
       "        val cyclo : int -> poly\n",
       "      end\n",
       "    module Conv :\n",
       "      sig\n",
       "        val int_of_poly : Poly.t -> int\n",
       "        val list_of_poly : Poly.t -> int list\n",
       "        val poly_of_int : int -> Poly.t\n",
       "        val completer : int list -> int list\n",
       "      end\n",
       "    val carac : int\n",
       "    val dim : int\n",
       "    val cardinal : int\n",
       "    val poly_irr : Poly.t\n",
       "    val zero : t\n",
       "    val of_int : int -> t\n",
       "    val to_int : t -> int\n",
       "    val to_list : t -> int list\n",
       "    val elt_of_list_int : int list -> t\n",
       "    val extraire : t -> elt\n",
       "    val incorporer : elt -> t\n",
       "    val un : t\n",
       "    val alpha : t\n",
       "    val add : t -> t -> t\n",
       "    val sub : t -> t -> t\n",
       "    val opp : t -> t\n",
       "    val mult : t -> t -> t\n",
       "    val inv : t -> t\n",
       "    val div : t -> t -> t\n",
       "    val pow : t -> int -> t\n",
       "    val print : t -> unit\n",
       "    val print_table : unit -> unit\n",
       "    val random : unit -> t\n",
       "  end\n"
      ]
     },
     "execution_count": 20,
     "metadata": {},
     "output_type": "execute_result"
    }
   ],
   "source": [
    "module F9' = ExtensionNonOpt(F3)(T6)"
   ]
  },
  {
   "cell_type": "code",
   "execution_count": 23,
   "metadata": {},
   "outputs": [
    {
     "name": "stdout",
     "output_type": "stream",
     "text": [
      "0%3X^0 + 1%3X^1\n"
     ]
    },
    {
     "data": {
      "text/plain": [
       "- : unit = ()\n"
      ]
     },
     "execution_count": 23,
     "metadata": {},
     "output_type": "execute_result"
    }
   ],
   "source": [
    "F9'.(print alpha)"
   ]
  },
  {
   "cell_type": "code",
   "execution_count": 26,
   "metadata": {},
   "outputs": [
    {
     "name": "stdout",
     "output_type": "stream",
     "text": [
      "a^1a^1\n"
     ]
    },
    {
     "data": {
      "text/plain": [
       "- : unit = ()\n"
      ]
     },
     "execution_count": 26,
     "metadata": {},
     "output_type": "execute_result"
    }
   ],
   "source": [
    "F9.(print alpha) ; print_newline ()"
   ]
  }
 ],
 "metadata": {
  "kernelspec": {
   "display_name": "OCaml 4.09.0",
   "language": "OCaml",
   "name": "ocaml-jupyter"
  },
  "language_info": {
   "codemirror_mode": "text/x-ocaml",
   "file_extension": ".ml",
   "mimetype": "text/x-ocaml",
   "name": "OCaml",
   "nbconverter_exporter": null,
   "pygments_lexer": "OCaml",
   "version": "4.09.0"
  }
 },
 "nbformat": 4,
 "nbformat_minor": 2
}
