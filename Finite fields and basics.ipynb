{
 "cells": [
  {
   "cell_type": "markdown",
   "metadata": {},
   "source": [
    "# Prime fields\n",
    "Let's use our module to build Frobenius fields, aka prime fields $ \\mathbf{F}_p $.\n",
    "\n",
    "First, we need to load the functor that makes a field based on a characteristic `carac`, which must be a prime."
   ]
  },
  {
   "cell_type": "code",
   "execution_count": 1,
   "metadata": {},
   "outputs": [
    {
     "name": "stdout",
     "output_type": "stream",
     "text": [
      "\tCamlp4 Parsing version 4.02.3\n",
      "\n",
      "module type FrobT =\n",
      "  sig\n",
      "    type elt\n",
      "    val zero : elt\n",
      "    val un : elt\n",
      "    val alpha : elt\n",
      "    val carac : int\n",
      "    val dim : int\n",
      "    val cardinal : int\n",
      "    val int_of_elt : elt -> int\n",
      "    val elt_of_int : int -> elt\n",
      "    val list_of_elt : elt -> int list\n",
      "    val elt_of_list_int : int list -> elt\n",
      "    val print : elt -> unit\n",
      "    val print_table : unit -> unit\n",
      "    val add : elt -> elt -> elt\n",
      "    val sub : elt -> elt -> elt\n",
      "    val opp : elt -> elt\n",
      "    val mult : elt -> elt -> elt\n",
      "    val inv : elt -> elt\n",
      "    val div : elt -> elt -> elt\n",
      "    val pow : elt -> int -> elt\n",
      "    val random : unit -> elt\n",
      "  end\n",
      "module Frobenius : functor (Taille : sig val carac : int end) -> FrobT\n"
     ]
    }
   ],
   "source": [
    "#use \"./src/frobenius.ml\""
   ]
  },
  {
   "cell_type": "markdown",
   "metadata": {},
   "source": [
    "Now, let's build $ \\mathbf{F}_3  = \\mathbf{Z}/(3\\mathbf{Z})$ :"
   ]
  },
  {
   "cell_type": "code",
   "execution_count": 2,
   "metadata": {},
   "outputs": [
    {
     "data": {
      "text/plain": [
       "module T3 : sig val carac : int end\n"
      ]
     },
     "execution_count": 2,
     "metadata": {},
     "output_type": "execute_result"
    },
    {
     "data": {
      "text/plain": [
       "module F3 :\n",
       "  sig\n",
       "    type elt = Frobenius(T3).elt\n",
       "    val zero : elt\n",
       "    val un : elt\n",
       "    val alpha : elt\n",
       "    val carac : int\n",
       "    val dim : int\n",
       "    val cardinal : int\n",
       "    val int_of_elt : elt -> int\n",
       "    val elt_of_int : int -> elt\n",
       "    val list_of_elt : elt -> int list\n",
       "    val elt_of_list_int : int list -> elt\n",
       "    val print : elt -> unit\n",
       "    val print_table : unit -> unit\n",
       "    val add : elt -> elt -> elt\n",
       "    val sub : elt -> elt -> elt\n",
       "    val opp : elt -> elt\n",
       "    val mult : elt -> elt -> elt\n",
       "    val inv : elt -> elt\n",
       "    val div : elt -> elt -> elt\n",
       "    val pow : elt -> int -> elt\n",
       "    val random : unit -> elt\n",
       "  end\n"
      ]
     },
     "execution_count": 2,
     "metadata": {},
     "output_type": "execute_result"
    }
   ],
   "source": [
    "module T3 = struct\n",
    "    let carac = 3\n",
    "end\n",
    "\n",
    "module F3 = Frobenius(T3)"
   ]
  },
  {
   "cell_type": "code",
   "execution_count": 3,
   "metadata": {},
   "outputs": [
    {
     "data": {
      "text/plain": [
       "- : unit = ()\n"
      ]
     },
     "execution_count": 3,
     "metadata": {},
     "output_type": "execute_result"
    }
   ],
   "source": [
    "F3.(print alpha)"
   ]
  },
  {
   "cell_type": "markdown",
   "metadata": {},
   "source": [
    "Unfortunately, we cannot print in here directly. We'll just need to flush standard output, which can be done easily  done `print_newline()` or `print_endline()` cf https://caml.inria.fr/pub/docs/manual-ocaml/libref/Pervasives.html :"
   ]
  },
  {
   "cell_type": "code",
   "execution_count": 4,
   "metadata": {},
   "outputs": [
    {
     "name": "stdout",
     "output_type": "stream",
     "text": [
      "2%3\n"
     ]
    },
    {
     "data": {
      "text/plain": [
       "- : unit = ()\n"
      ]
     },
     "execution_count": 4,
     "metadata": {},
     "output_type": "execute_result"
    }
   ],
   "source": [
    "print_newline ()"
   ]
  },
  {
   "cell_type": "markdown",
   "metadata": {},
   "source": [
    "We can now see that the 2 is a (the) primitive element in this field. \n",
    "If we need more flexible representation, we can just use other primitives :"
   ]
  },
  {
   "cell_type": "code",
   "execution_count": 5,
   "metadata": {},
   "outputs": [
    {
     "name": "stdout",
     "output_type": "stream",
     "text": [
      "2\n"
     ]
    },
    {
     "data": {
      "text/plain": [
       "- : unit = ()\n"
      ]
     },
     "execution_count": 5,
     "metadata": {},
     "output_type": "execute_result"
    }
   ],
   "source": [
    "F3.(int_of_elt alpha) |> print_int ; print_newline ()"
   ]
  },
  {
   "cell_type": "markdown",
   "metadata": {},
   "source": [
    "Let's extend this field to make $ \\mathbf{F}_9 $. To do this, we're actually going to build $ \\mathbf{F}_3[X]/(f(x))$ where $f(x)$ is an irreducible polynomial of degree 2.\n",
    "First, we need to make polynoms out of these. Then, the module Cantorzass factorizes a cyclotomic polynomial and exten"
   ]
  },
  {
   "cell_type": "code",
   "execution_count": 6,
   "metadata": {
    "scrolled": true
   },
   "outputs": [
    {
     "name": "stdout",
     "output_type": "stream",
     "text": [
      "module Polynome :\n",
      "  sig\n",
      "    module type CorpsType =\n",
      "      sig\n",
      "        type elt\n",
      "        val carac : int\n",
      "        val cardinal : int\n",
      "        val dim : int\n",
      "        val zero : elt\n",
      "        val un : elt\n",
      "        val random : unit -> elt\n",
      "        val print : elt -> unit\n",
      "        val opp : elt -> elt\n",
      "        val inv : elt -> elt\n",
      "        val add : elt -> elt -> elt\n",
      "        val mult : elt -> elt -> elt\n",
      "        val sub : elt -> elt -> elt\n",
      "        val div : elt -> elt -> elt\n",
      "        val pow : elt -> int -> elt\n",
      "      end\n",
      "    module type PolyFunctorType =\n",
      "      functor (Corps : CorpsType) ->\n",
      "        sig\n",
      "          type elt = Corps.elt\n",
      "          type poly\n",
      "          val carac : int\n",
      "          val cardinal : int\n",
      "          val poly_of_list : elt list -> poly\n",
      "          val list_of_poly : poly -> elt list\n",
      "          val nul : poly\n",
      "          val un : poly\n",
      "          val coef_dom : poly -> elt\n",
      "          val map : (elt -> elt) -> poly -> poly\n",
      "          val evaluer : poly -> elt -> elt\n",
      "          val normalise : poly -> poly\n",
      "          val unitaire : poly -> poly\n",
      "          val decale : poly -> int -> poly\n",
      "          val monome : elt -> int -> poly\n",
      "          val reciproque : poly -> poly\n",
      "          val coef_constant : poly -> elt\n",
      "          val degre : poly -> int\n",
      "          val derive : poly -> poly\n",
      "          val opp : poly -> poly\n",
      "          val add : poly -> poly -> poly\n",
      "          val sub : poly -> poly -> poly\n",
      "          val mult : poly -> poly -> poly\n",
      "          val pow : poly -> int -> poly\n",
      "          val powmod : poly -> int -> poly -> poly\n",
      "          val division : poly -> poly -> poly * poly\n",
      "          val quotient : poly -> poly -> poly\n",
      "          val modulo : poly -> poly -> poly\n",
      "          val mult_par_scal : poly -> elt -> poly\n",
      "          val translate : int -> poly -> poly\n",
      "          val pgcd : poly -> poly -> poly\n",
      "          val euclide : poly -> poly -> poly * poly * poly\n",
      "          val random : int -> poly\n",
      "          val print : poly -> unit\n",
      "        end\n",
      "    module Polynome : PolyFunctorType\n",
      "  end\n",
      "module Cantorzass :\n",
      "  sig\n",
      "    module type PolyCZType =\n",
      "      sig\n",
      "        type poly\n",
      "        val cardinal : int\n",
      "        val carac : int\n",
      "        val nul : poly\n",
      "        val un : poly\n",
      "        val normalise : poly -> poly\n",
      "        val print : poly -> unit\n",
      "        val degre : poly -> int\n",
      "        val add : poly -> poly -> poly\n",
      "        val sub : poly -> poly -> poly\n",
      "        val opp : poly -> poly\n",
      "        val quotient : poly -> poly -> poly\n",
      "        val modulo : poly -> poly -> poly\n",
      "        val mult : poly -> poly -> poly\n",
      "        val powmod : poly -> int -> poly -> poly\n",
      "        val pgcd : poly -> poly -> poly\n",
      "        val derive : poly -> poly\n",
      "        val random : int -> poly\n",
      "      end\n",
      "    module Cantorzass :\n",
      "      functor (Poly : PolyCZType) ->\n",
      "        sig\n",
      "          type poly = Poly.poly\n",
      "          val cantor_zassenhaus : poly -> int -> poly\n",
      "          val factorisation : poly -> int -> poly list\n",
      "        end\n",
      "  end\n",
      "module Cyclo :\n",
      "  sig\n",
      "    module type Polynome =\n",
      "      sig\n",
      "        type poly\n",
      "        val opp : poly -> poly\n",
      "        val translate : int -> poly -> poly\n",
      "        val decale : poly -> int -> poly\n",
      "        val add : poly -> poly -> poly\n",
      "        val un : poly\n",
      "        val quotient : poly -> poly -> poly\n",
      "      end\n",
      "    module Cyclo :\n",
      "      functor (Poly : Polynome) ->\n",
      "        sig val decomposer : int -> int list val cyclo : int -> Poly.poly end\n",
      "  end\n",
      "val pow_int : int -> int -> int = <fun>\n",
      "module type TT = sig val dim : int end\n",
      "module type CFT =\n",
      "  sig\n",
      "    type elt\n",
      "    val carac : int\n",
      "    val dim : int\n",
      "    val cardinal : int\n",
      "    val zero : elt\n",
      "    val elt_of_int : int -> elt\n",
      "    val int_of_elt : elt -> int\n",
      "    val un : elt\n",
      "    val alpha : elt\n",
      "    val add : elt -> elt -> elt\n",
      "    val sub : elt -> elt -> elt\n",
      "    val opp : elt -> elt\n",
      "    val mult : elt -> elt -> elt\n",
      "    val inv : elt -> elt\n",
      "    val div : elt -> elt -> elt\n",
      "    val pow : elt -> int -> elt\n",
      "    val print : elt -> unit\n",
      "    val print_table : unit -> unit\n",
      "    val random : unit -> elt\n",
      "  end\n",
      "module type ExtFuncT =\n",
      "  functor (CorpsBase : CFT) (Taille : TT) ->\n",
      "    sig\n",
      "      type elt\n",
      "      exception ExtraireImpossible\n",
      "      val carac : int\n",
      "      val dim : int\n",
      "      val cardinal : int\n",
      "      val zero : elt\n",
      "      val elt_of_int : int -> elt\n",
      "      val int_of_elt : elt -> int\n",
      "      val list_of_elt : elt -> int list\n",
      "      val elt_of_list_int : int list -> elt\n",
      "      val extraire : elt -> CorpsBase.elt\n",
      "      val incorporer : CorpsBase.elt -> elt\n",
      "      val un : elt\n",
      "      val alpha : elt\n",
      "      val add : elt -> elt -> elt\n",
      "      val sub : elt -> elt -> elt\n",
      "      val opp : elt -> elt\n",
      "      val mult : elt -> elt -> elt\n",
      "      val inv : elt -> elt\n",
      "      val div : elt -> elt -> elt\n",
      "      val pow : elt -> int -> elt\n",
      "      val print : elt -> unit\n",
      "      val print_table : unit -> unit\n",
      "      val random : unit -> elt\n",
      "    end\n",
      "module ExtensionOpt : ExtFuncT\n",
      "module ExtensionNonOpt : ExtFuncT\n"
     ]
    }
   ],
   "source": [
    "#mod_use \"./src/polynome.ml\"\n",
    "#mod_use \"./src/cantorzass.ml\"\n",
    "#mod_use \"./src/cyclo.ml\"\n",
    "#use \"./src/extensions.ml\""
   ]
  },
  {
   "cell_type": "code",
   "execution_count": 7,
   "metadata": {},
   "outputs": [
    {
     "data": {
      "text/plain": [
       "module T6 : sig val carac : int val dim : int end\n"
      ]
     },
     "execution_count": 7,
     "metadata": {},
     "output_type": "execute_result"
    },
    {
     "data": {
      "text/plain": [
       "module F9 :\n",
       "  sig\n",
       "    type elt = ExtensionOpt(F3)(T6).elt\n",
       "    exception ExtraireImpossible\n",
       "    val carac : int\n",
       "    val dim : int\n",
       "    val cardinal : int\n",
       "    val zero : elt\n",
       "    val elt_of_int : int -> elt\n",
       "    val int_of_elt : elt -> int\n",
       "    val list_of_elt : elt -> int list\n",
       "    val elt_of_list_int : int list -> elt\n",
       "    val extraire : elt -> F3.elt\n",
       "    val incorporer : F3.elt -> elt\n",
       "    val un : elt\n",
       "    val alpha : elt\n",
       "    val add : elt -> elt -> elt\n",
       "    val sub : elt -> elt -> elt\n",
       "    val opp : elt -> elt\n",
       "    val mult : elt -> elt -> elt\n",
       "    val inv : elt -> elt\n",
       "    val div : elt -> elt -> elt\n",
       "    val pow : elt -> int -> elt\n",
       "    val print : elt -> unit\n",
       "    val print_table : unit -> unit\n",
       "    val random : unit -> elt\n",
       "  end\n"
      ]
     },
     "execution_count": 7,
     "metadata": {},
     "output_type": "execute_result"
    }
   ],
   "source": [
    "module T6 = struct\n",
    "    let carac = 3\n",
    "    let dim = 2\n",
    "end\n",
    "\n",
    "module F9 = ExtensionOpt(F3)(T6)"
   ]
  },
  {
   "cell_type": "code",
   "execution_count": 12,
   "metadata": {
    "scrolled": true
   },
   "outputs": [
    {
     "data": {
      "text/plain": [
       "- : unit = ()\n"
      ]
     },
     "execution_count": 12,
     "metadata": {},
     "output_type": "execute_result"
    },
    {
     "name": "stdout",
     "output_type": "stream",
     "text": [
      "a^1\n",
      "a^2\n",
      "a^3\n",
      "a^4\n",
      "a^5\n",
      "a^6\n",
      "a^7\n",
      "a^0\n",
      "\n",
      "1%3X^0\n",
      "\n",
      "0%3X^0 + 1%3X^1\n",
      "\n",
      "1%3X^0 + 2%3X^1\n",
      "\n",
      "2%3X^0 + 2%3X^1\n",
      "\n",
      "2%3X^0\n",
      "\n",
      "0%3X^0 + 2%3X^1\n",
      "\n",
      "2%3X^0 + 1%3X^1\n",
      "\n",
      "1%3X^0 + 1%3X^1\n",
      "\n"
     ]
    }
   ],
   "source": [
    "let _ = \n",
    "    let open F9 in\n",
    "    let rec enum x = match x with\n",
    "        | a when a=un -> print un ; print_newline() ;\n",
    "        | a -> print a ; print_newline() ; enum (mult a alpha)\n",
    "    in enum alpha\n",
    ";\n",
    "print_newline() ; F9.print_table ()"
   ]
  }
 ],
 "metadata": {
  "kernelspec": {
   "display_name": "OCaml jupnb",
   "language": "OCaml",
   "name": "ocaml-jupyter"
  },
  "language_info": {
   "codemirror_mode": "text/x-ocaml",
   "file_extension": ".ml",
   "mimetype": "text/x-ocaml",
   "name": "OCaml",
   "nbconverter_exporter": null,
   "pygments_lexer": "OCaml",
   "version": "4.02.3"
  }
 },
 "nbformat": 4,
 "nbformat_minor": 2
}
